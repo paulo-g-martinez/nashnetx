{
 "cells": [
  {
   "cell_type": "markdown",
   "metadata": {
    "deletable": true,
    "editable": true
   },
   "source": [
    "## Get data from Meetup.com\n",
    "\n",
    "We are going to get data from Meetup's API. You can create custom requests using their API console, then make them via Python by copying the secure link here.\n",
    "\n",
    "https://secure.meetup.com/meetup_api/console/?path=/2/members"
   ]
  },
  {
   "cell_type": "code",
   "execution_count": 1,
   "metadata": {
    "collapsed": false,
    "deletable": true,
    "editable": true
   },
   "outputs": [],
   "source": [
    "import pandas as pd\n",
    "import numpy as np\n",
    "import requests\n",
    "import os\n",
    "import json\n",
    "from time import sleep"
   ]
  },
  {
   "cell_type": "markdown",
   "metadata": {
    "deletable": true,
    "editable": true
   },
   "source": [
    "#### Get PyNash Members"
   ]
  },
  {
   "cell_type": "code",
   "execution_count": 6,
   "metadata": {
    "collapsed": false
   },
   "outputs": [],
   "source": [
    "def get_all_groups(location_str, radius=25, write_path=None):\n",
    "    cols = ('group_id', 'group_name', 'num_members', 'category_id', \n",
    "            'category_name', 'organizer_id', 'group_urlname')\n",
    "    all_groups = pd.DataFrame(columns=cols)\n",
    "\n",
    "    for page in np.arange(10):\n",
    "        q = 'https://api.meetup.com/find/groups?&sign=true&photo-host=public&location={}&radius={}&page=200&offset={}&key=1eb16676d664fa48314391ae5b6c'.format(location_str, radius, page) \n",
    "        response = requests.get(q).json()\n",
    "        if len(response) > 0:\n",
    "            try:\n",
    "                for g in response:\n",
    "                    s = pd.Series((g['id'], g['name'], g['members'], g['category']['id'], \n",
    "                                   g['category']['name'], g['organizer']['id'], g['urlname']),\n",
    "                                 index=cols)\n",
    "                    all_groups = all_groups.append(s, ignore_index=True)\n",
    "            except KeyError as exc:\n",
    "                print(g['name'], exc)\n",
    "        # Sleep briefly so that API doesn't get overwhelmed\n",
    "        sleep(0.2)\n",
    "\n",
    "    all_groups = all_groups.astype({'group_id': int, 'organizer_id': int, 'category_id': int, 'num_members': int})\n",
    "    all_groups = all_groups.set_index('group_id')\n",
    "    \n",
    "    # Write to computer\n",
    "    if write_path:\n",
    "        all_groups.to_csv(write_path, encoding='utf-8') \n",
    "\n",
    "    return all_groups\n",
    "\n",
    "\n",
    "def get_group_members(group_id):\n",
    "\n",
    "    # Initialize variables\n",
    "    members = pd.DataFrame()\n",
    "    page = 0\n",
    "    bad_iters = 0\n",
    "    \n",
    "    # Keep querying until there are no more results\n",
    "    all_results = False\n",
    "    while all_results == False:\n",
    "        q = 'https://api.meetup.com/2/members?&sign=true&photo-host=public&group_id={}&only=name,id,city,state,hometown,joined,visited,lat,lon&page=200&offset={}&key=1eb16676d664fa48314391ae5b6c'.format(group_id, page)\n",
    "        response = requests.get(q).json()\n",
    "        if 'results' in response.keys():\n",
    "            try:\n",
    "                tdf = pd.DataFrame.from_dict(response['results'])\n",
    "                members = members.append(tdf)\n",
    "                page += 1\n",
    "            except KeyError as exc:\n",
    "                all_results = True\n",
    "                bad_iters += 1\n",
    "                if bad_iters > 5:\n",
    "                    return None\n",
    "                pass\n",
    "            except json.decoder.JSONDecodeError:\n",
    "                bad_iters += 1\n",
    "                if bad_iters > 5:\n",
    "                    return None\n",
    "                pass\n",
    "        else:\n",
    "            sleep(2)\n",
    "            pass\n",
    "\n",
    "    members['group_id'] = group_id\n",
    "    \n",
    "    return members\n",
    "\n",
    "\n",
    "\n",
    "def agg_group_members(list_of_group_ids, write_path=None, intermediate_path=None):\n",
    "    all_members = pd.DataFrame()\n",
    "    \n",
    "    for g in list_of_group_ids:\n",
    "        sleep(1)\n",
    "        try:\n",
    "            tdf = get_group_members(g)\n",
    "            if intermediate_path:\n",
    "                tdf.to_csv('{}/{}.csv'.format(intermediate_path, g), encoding='utf-8')\n",
    "            all_members = all_members.append(tdf)\n",
    "        except KeyError as exc:\n",
    "            print(group, exc)\n",
    "            continue\n",
    "\n",
    "    # Write to computer\n",
    "    if write_path:\n",
    "        all_members.to_csv(write_path, encoding='utf-8') \n",
    "    \n",
    "    return all_members"
   ]
  },
  {
   "cell_type": "code",
   "execution_count": 4,
   "metadata": {
    "collapsed": false
   },
   "outputs": [],
   "source": [
    "empty_inds = [22982126, 25514523, 26148182, 25747812, 25842377, 21289207, 24471828, 20326297, 19072581, 18833001, 22824474, 19934899, 26258970, 25026657, 23234440, 25661378, 24985315, 19408839, 26254038, 7129942, 20229452, 26074382, 25442126, 24504847, 1819474, 24762391, 25122337, 22501996, 19764562, 22275880, 18194233, 24351103, 21771089, 23029297, 1512578, 24637264, 21846276, 23523548, 23709488, 23318990, 23181015, 4037642, 23505371, 19992350, 19215770, 4507792, 19549621, 1299250, 26042538, 19370256, 20488570, 20267150, 22632117, 19479699, 26080969, 18505473, 18737159, 19306451, 20486490, 19440811, 18487182, 24890978, 16731932, 21801924, 18916508, 21064154, 14194422, 18476335, 11138782, 25756605, 19042913, 20216370, 691322, 10580242, 23593297, 18630936, 20571755, 18642322, 1586635, 17732042, 19503486, 1680888, 1585263, 11574842, 25066933, 2749292, 19856615, 21148651, 18602694, 22782911, 20285980, 1768040, 19740004, 21506105, 21710544, 3718972, 23598515, 19591270, 8741902, 1049061, 23273659, 22916872, 17213452, 18412046, 23018525, 351080, 19459402, 19959627, 6859622, 1776410, 13993792, 4341532, 19115644, 24440003, 18502048, 2527902, 18483128, 1819536, 530494, 1438993, 510297, 1660079, 19035334, 18579141, 2662782, 1150309, 1682521, 4642582, 1770788, 20040517, 1788274, 9540322, 1694517, 17404882, 211512, 3260132, 16291092, 377617, 1334499, 3217182, 1226140, 1808866, 9452822, 1877261, 1583865, 968626]"
   ]
  },
  {
   "cell_type": "code",
   "execution_count": 5,
   "metadata": {
    "collapsed": false
   },
   "outputs": [
    {
     "name": "stdout",
     "output_type": "stream",
     "text": [
      "Community Experience Testers - Nashville 'category'\n"
     ]
    }
   ],
   "source": [
    "groups = get_all_groups('nashville tn', write_path='data/groups.csv')"
   ]
  },
  {
   "cell_type": "code",
   "execution_count": 38,
   "metadata": {
    "collapsed": false
   },
   "outputs": [
    {
     "data": {
      "text/html": [
       "<div>\n",
       "<table border=\"1\" class=\"dataframe\">\n",
       "  <thead>\n",
       "    <tr style=\"text-align: right;\">\n",
       "      <th></th>\n",
       "      <th>city</th>\n",
       "      <th>hometown</th>\n",
       "      <th>joined</th>\n",
       "      <th>lat</th>\n",
       "      <th>lon</th>\n",
       "      <th>name</th>\n",
       "      <th>state</th>\n",
       "      <th>visited</th>\n",
       "      <th>group_id</th>\n",
       "    </tr>\n",
       "    <tr>\n",
       "      <th>id</th>\n",
       "      <th></th>\n",
       "      <th></th>\n",
       "      <th></th>\n",
       "      <th></th>\n",
       "      <th></th>\n",
       "      <th></th>\n",
       "      <th></th>\n",
       "      <th></th>\n",
       "      <th></th>\n",
       "    </tr>\n",
       "  </thead>\n",
       "  <tbody>\n",
       "    <tr>\n",
       "      <th>213837877</th>\n",
       "      <td>Nashville</td>\n",
       "      <td>NaN</td>\n",
       "      <td>1507142265000</td>\n",
       "      <td>36.18</td>\n",
       "      <td>-86.74</td>\n",
       "      <td>Christian Hooser</td>\n",
       "      <td>TN</td>\n",
       "      <td>1507105911000</td>\n",
       "      <td>26140018</td>\n",
       "    </tr>\n",
       "    <tr>\n",
       "      <th>6770985</th>\n",
       "      <td>Nashville</td>\n",
       "      <td>Nashville</td>\n",
       "      <td>1507051818000</td>\n",
       "      <td>36.16</td>\n",
       "      <td>-86.79</td>\n",
       "      <td>Joe</td>\n",
       "      <td>TN</td>\n",
       "      <td>1508024880000</td>\n",
       "      <td>26140018</td>\n",
       "    </tr>\n",
       "    <tr>\n",
       "      <th>226920452</th>\n",
       "      <td>Nashville</td>\n",
       "      <td>Nashville</td>\n",
       "      <td>1507180412000</td>\n",
       "      <td>36.08</td>\n",
       "      <td>-86.72</td>\n",
       "      <td>Rachel</td>\n",
       "      <td>TN</td>\n",
       "      <td>1508082160000</td>\n",
       "      <td>26140018</td>\n",
       "    </tr>\n",
       "  </tbody>\n",
       "</table>\n",
       "</div>"
      ],
      "text/plain": [
       "                city   hometown         joined    lat    lon  \\\n",
       "id                                                             \n",
       "213837877  Nashville        NaN  1507142265000  36.18 -86.74   \n",
       "6770985    Nashville  Nashville  1507051818000  36.16 -86.79   \n",
       "226920452  Nashville  Nashville  1507180412000  36.08 -86.72   \n",
       "\n",
       "                       name state        visited  group_id  \n",
       "id                                                          \n",
       "213837877  Christian Hooser    TN  1507105911000  26140018  \n",
       "6770985                 Joe    TN  1508024880000  26140018  \n",
       "226920452            Rachel    TN  1508082160000  26140018  "
      ]
     },
     "execution_count": 38,
     "metadata": {},
     "output_type": "execute_result"
    }
   ],
   "source": [
    "get_group_members(groups.sort_values(by='num_members').index.tolist()[5])"
   ]
  },
  {
   "cell_type": "code",
   "execution_count": null,
   "metadata": {
    "collapsed": false
   },
   "outputs": [],
   "source": [
    "all_members = agg_group_members(empty_inds, \n",
    "                                write_path='data/memberships2.csv', \n",
    "                                intermediate_path='data')"
   ]
  },
  {
   "cell_type": "markdown",
   "metadata": {
    "deletable": true,
    "editable": true
   },
   "source": [
    "#### Get memberships for each member"
   ]
  },
  {
   "cell_type": "code",
   "execution_count": 27,
   "metadata": {
    "collapsed": false,
    "deletable": true,
    "editable": true
   },
   "outputs": [],
   "source": [
    "from time import sleep\n",
    "import json\n",
    "\n",
    "\n",
    "edges = pd.DataFrame()\n",
    "err_ids = []\n",
    "for pid in members.index:\n",
    "    r = requests.get('https://api.meetup.com/2/groups?&sign=true&member_id={}&page=200&key=1eb16676d664fa48314391ae5b6c'.format(pid))\n",
    "    try:\n",
    "        r = r.json()\n",
    "        for membership in r['results']:\n",
    "            edge = pd.Series({'member_id': pid, \n",
    "                              'group_id': membership['id'], \n",
    "                              'group_name': membership['name']})\n",
    "            edges = edges.append(edge, ignore_index=True)\n",
    "    except json.decoder.JSONDecodeError:\n",
    "        print(pid)\n",
    "        err_ids.append(pid)\n",
    "    \n",
    "    # Sleep briefly so that API doesn't get overwhelmed\n",
    "    sleep(0.2)\n",
    "        \n",
    "\n",
    "# Write to computer\n",
    "write_data = True\n",
    "if write_data == True:\n",
    "    edges.to_csv('data_edges.csv') \n"
   ]
  }
 ],
 "metadata": {
  "kernelspec": {
   "display_name": "Python [conda env:py3]",
   "language": "python",
   "name": "conda-env-py3-py"
  },
  "language_info": {
   "codemirror_mode": {
    "name": "ipython",
    "version": 3
   },
   "file_extension": ".py",
   "mimetype": "text/x-python",
   "name": "python",
   "nbconvert_exporter": "python",
   "pygments_lexer": "ipython3",
   "version": "3.6.0"
  }
 },
 "nbformat": 4,
 "nbformat_minor": 2
}
