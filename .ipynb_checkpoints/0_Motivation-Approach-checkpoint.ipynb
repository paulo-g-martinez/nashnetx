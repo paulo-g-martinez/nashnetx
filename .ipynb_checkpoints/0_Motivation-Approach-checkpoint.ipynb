{
 "cells": [
  {
   "cell_type": "markdown",
   "metadata": {},
   "source": [
    "Who are the kings and queens of the Nashville MeetUp scene? \n",
    "\n",
    "That's the question we want to answer today. And to do that, we're going to use a branch of mathematics called **Graph Theory** and **(NetworkX)[https://networkx.github.io/]**, an excellent Python package for network analysis. \n",
    "\n",
    "1. What is a graph?\n",
    "2. Types of graphs\n",
    "3. Tackling Nashville MeetUps\n",
    "\n",
    "#### What is a graph?\n",
    "\n",
    "Graphs are mathematical structures used to model pairwise relations between objects. A graph in this context is made up of **nodes** which are connected by **edges**. \n",
    "\n",
    "Graphs were first used by Leonhard Euler, a Swiss mathematician, to solve the *Seven Bridges of Konigsberg* problem. The problem was this: Konigsberg had four land masses connected by seven bridges. Was it possible to traverse every bridge once?\n",
    "\n",
    "(The seven bridges of Konigsberg)[img/konigsberg_land.jpg]\n",
    "\n",
    "The answer could not be obtained through traditional means. Euler reasoned thus:\n",
    "1. We do not care about the properties of the land or bridges, only that they are connected.\n",
    "2. To enter/exit a land mass, one must traverse two bridges connected to the land mass. Therefore, a land mass must have either 2 or 4 or 6 (or 8...) bridges to be able to enter/exit it.\n",
    "3. The first and last land masses may have 1 bridge each (but they must both have 1 bridge).\n",
    "4. Therefore, every land mass must have an even number of bridges, or two land masses may have an odd number of bridges. \n",
    "\n",
    "(graph)[img/kongsberg_graph.jpg]\n",
    "\n",
    "\n",
    "#### Types of Graphs\n",
    "\n",
    "There are many types of graphs. The most simple graph is *undirected* and *unweighted*: each node has a binary relationship with every other node. Some other properties include:\n",
    "\n",
    "- **Undirected**: A graph with undirected edges means there is no directionality between two nodes. Examples: most streets/bridges, power grid, social networks.\n",
    "- **Directed**: Directed edges indicate that the connection between two nodes is asymmetric: there is a source and target for the connection. Examples: e-mail (send/recieve), internet links, imports/exports between countries.\n",
    "- **Unweighted**: An edge is either present or not, and all edges are the same. Examples: Facebook \"friends\", contacts in a phone.\n",
    "- **Weighted**: Some edges are weighted more highly than others, allowing the edge to be more important in graph measures. Examples: An eight-lane highway vs. a two lane road, commonality of interests (5 interests vs. 2 interests.\n",
    "- **MultiGraph**: A multigraph has higher dimensionality, allowing a node to be connected in one dimension but not another. Examples: A person has a work relationship but not a social relationship with their manager.\n",
    "- **Bipartite**: Bipartite graphs have two \"sets\" of nodes that are not connected within themselves - only between, giving them useful properties, such as the ability to \"project\" graphs onto one set or the other. Examples: Sports fans are connected to sports teams (but not to each other), people have interests (but not direct connections to each other).\n",
    "\n",
    "\n",
    "#### Tackling Nashville MeetUps\n",
    "\n",
    "To construct MeetUp network, we have to decide what we're interested in. A few options are:\n",
    "\n",
    "- Members connected by shared events attendance.\n",
    "- Members connected by shared group membership.\n",
    "- Members connected by shared interests.\n",
    "- Groups connected by shared membership (or event attendance).\n",
    "- Events connected by shared attendance (i.e., does each event attract the same crowd or new crowds?)\n",
    "\n",
    "For this project, we'll proceed with Door Number One: *members connect by shared event attendance*. The bare minimum data we will need, therefore, is data in the form of (*Meetup Member ID*, *MeetUp Event ID*), where each instance represents a person RSVPing \"yes\" to an event.\n",
    "\n",
    "Additional information will also be useful, however -- grouping events by \"Group\" and labeling members by name will enrich our understanding of the structures of the graph and make measures more useful. \n",
    "\n",
    "In the next post, we'll talk about how to get this data and get started with MeetUp!\n"
   ]
  }
 ],
 "metadata": {
  "kernelspec": {
   "display_name": "Python [conda env:py3]",
   "language": "python",
   "name": "conda-env-py3-py"
  },
  "language_info": {
   "codemirror_mode": {
    "name": "ipython",
    "version": 3
   },
   "file_extension": ".py",
   "mimetype": "text/x-python",
   "name": "python",
   "nbconvert_exporter": "python",
   "pygments_lexer": "ipython3",
   "version": "3.6.0"
  }
 },
 "nbformat": 4,
 "nbformat_minor": 2
}
