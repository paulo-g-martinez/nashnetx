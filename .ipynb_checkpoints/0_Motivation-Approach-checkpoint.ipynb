{
 "cells": [
  {
   "cell_type": "markdown",
   "metadata": {},
   "source": [
    "Who are the kings and queens of the Nashville MeetUp scene? \n",
    "\n",
    "That's the question we want to answer today. And to do that, we're going to use a branch of mathematics called Graph Theory and (NetworkX)[www....], an excellent Python package for network analysis. \n",
    "\n",
    "#### What is graph theory?\n",
    "\n",
    "Graph theory\n",
    "\n",
    "\n",
    "#### Types of Graphs\n",
    "\n",
    "- Directed\n",
    "- Weighted\n",
    "- Bipartite"
   ]
  }
 ],
 "metadata": {
  "kernelspec": {
   "display_name": "Python [conda env:py3]",
   "language": "python",
   "name": "conda-env-py3-py"
  },
  "language_info": {
   "codemirror_mode": {
    "name": "ipython",
    "version": 3
   },
   "file_extension": ".py",
   "mimetype": "text/x-python",
   "name": "python",
   "nbconvert_exporter": "python",
   "pygments_lexer": "ipython3",
   "version": "3.6.0"
  }
 },
 "nbformat": 4,
 "nbformat_minor": 2
}
