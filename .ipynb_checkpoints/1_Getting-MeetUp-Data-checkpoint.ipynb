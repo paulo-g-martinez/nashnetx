{
 "cells": [
  {
   "cell_type": "markdown",
   "metadata": {
    "deletable": true,
    "editable": true
   },
   "source": [
    "Our first step in analyzing Nashville's MeetUp scene is to scrape the data from the web. Fortunately, MeetUp has a great REST API client that we can use to build our database. Head on over to their (interactive console)[https://secure.meetup.com/meetup_api/console] if you want to see its complete functionality. \n",
    "\n",
    "For our purposes, **event attendance** is the fundamental piece of data we need to build the graph. In MeetUp terminology, we are after the **Yes RSVPs** individuals make when a MeetUp group organizes an event. This doesn't guarantee their actual attendance, of course, but it's the best proxy we have. \n",
    "\n",
    "Since we're interested in guiding decisions NOW, we will limit our search to events occuring in the past two years"
   ]
  },
  {
   "cell_type": "markdown",
   "metadata": {
    "deletable": true,
    "editable": true
   },
   "source": [
    "#### Get PyNash Members"
   ]
  },
  {
   "cell_type": "code",
   "execution_count": 2,
   "metadata": {
    "collapsed": false
   },
   "outputs": [],
   "source": [
    "import utils"
   ]
  },
  {
   "cell_type": "markdown",
   "metadata": {
    "deletable": true,
    "editable": true
   },
   "source": [
    "#### Get memberships for individual members"
   ]
  },
  {
   "cell_type": "code",
   "execution_count": 89,
   "metadata": {
    "collapsed": true
   },
   "outputs": [
    {
     "ename": "ValueError",
     "evalue": "DataFrame constructor not properly called!",
     "output_type": "error",
     "traceback": [
      "\u001b[1;31m---------------------------------------------------------------------------\u001b[0m",
      "\u001b[1;31mValueError\u001b[0m                                Traceback (most recent call last)",
      "\u001b[1;32m<ipython-input-89-3017c276cddf>\u001b[0m in \u001b[0;36m<module>\u001b[1;34m()\u001b[0m\n\u001b[0;32m      4\u001b[0m \u001b[0mq\u001b[0m \u001b[1;33m+=\u001b[0m \u001b[1;34m'&{}'\u001b[0m\u001b[1;33m.\u001b[0m\u001b[0mformat\u001b[0m\u001b[1;33m(\u001b[0m\u001b[0mapi_key\u001b[0m\u001b[1;33m)\u001b[0m\u001b[1;33m\u001b[0m\u001b[0m\n\u001b[0;32m      5\u001b[0m \u001b[0mresponse\u001b[0m \u001b[1;33m=\u001b[0m \u001b[0mrequests\u001b[0m\u001b[1;33m.\u001b[0m\u001b[0mget\u001b[0m\u001b[1;33m(\u001b[0m\u001b[0mq\u001b[0m\u001b[1;33m)\u001b[0m\u001b[1;33m\u001b[0m\u001b[0m\n\u001b[1;32m----> 6\u001b[1;33m \u001b[0mevents_df\u001b[0m \u001b[1;33m=\u001b[0m \u001b[0mpd\u001b[0m\u001b[1;33m.\u001b[0m\u001b[0mDataFrame\u001b[0m\u001b[1;33m.\u001b[0m\u001b[0mfrom_dict\u001b[0m\u001b[1;33m(\u001b[0m\u001b[0mresponse\u001b[0m\u001b[1;33m)\u001b[0m\u001b[1;33m\u001b[0m\u001b[0m\n\u001b[0m\u001b[0;32m      7\u001b[0m \u001b[0mevents_df\u001b[0m\u001b[1;33m.\u001b[0m\u001b[0mtime\u001b[0m \u001b[1;33m=\u001b[0m \u001b[0mpd\u001b[0m\u001b[1;33m.\u001b[0m\u001b[0mto_datetime\u001b[0m\u001b[1;33m(\u001b[0m\u001b[0mevents_df\u001b[0m\u001b[1;33m.\u001b[0m\u001b[0mtime\u001b[0m\u001b[1;33m,\u001b[0m \u001b[0munit\u001b[0m\u001b[1;33m=\u001b[0m\u001b[1;34m'ms'\u001b[0m\u001b[1;33m)\u001b[0m\u001b[1;33m\u001b[0m\u001b[0m\n\u001b[0;32m      8\u001b[0m \u001b[0mevents_df\u001b[0m\u001b[1;33m[\u001b[0m\u001b[1;34m'group_urlname'\u001b[0m\u001b[1;33m]\u001b[0m \u001b[1;33m=\u001b[0m \u001b[0murlname\u001b[0m\u001b[1;33m\u001b[0m\u001b[0m\n",
      "\u001b[1;32mC:\\Users\\stkba\\Anaconda3\\envs\\py3\\lib\\site-packages\\pandas\\core\\frame.py\u001b[0m in \u001b[0;36mfrom_dict\u001b[1;34m(cls, data, orient, dtype)\u001b[0m\n\u001b[0;32m    849\u001b[0m             \u001b[1;32mraise\u001b[0m \u001b[0mValueError\u001b[0m\u001b[1;33m(\u001b[0m\u001b[1;34m'only recognize index or columns for orient'\u001b[0m\u001b[1;33m)\u001b[0m\u001b[1;33m\u001b[0m\u001b[0m\n\u001b[0;32m    850\u001b[0m \u001b[1;33m\u001b[0m\u001b[0m\n\u001b[1;32m--> 851\u001b[1;33m         \u001b[1;32mreturn\u001b[0m \u001b[0mcls\u001b[0m\u001b[1;33m(\u001b[0m\u001b[0mdata\u001b[0m\u001b[1;33m,\u001b[0m \u001b[0mindex\u001b[0m\u001b[1;33m=\u001b[0m\u001b[0mindex\u001b[0m\u001b[1;33m,\u001b[0m \u001b[0mcolumns\u001b[0m\u001b[1;33m=\u001b[0m\u001b[0mcolumns\u001b[0m\u001b[1;33m,\u001b[0m \u001b[0mdtype\u001b[0m\u001b[1;33m=\u001b[0m\u001b[0mdtype\u001b[0m\u001b[1;33m)\u001b[0m\u001b[1;33m\u001b[0m\u001b[0m\n\u001b[0m\u001b[0;32m    852\u001b[0m \u001b[1;33m\u001b[0m\u001b[0m\n\u001b[0;32m    853\u001b[0m     \u001b[1;32mdef\u001b[0m \u001b[0mto_dict\u001b[0m\u001b[1;33m(\u001b[0m\u001b[0mself\u001b[0m\u001b[1;33m,\u001b[0m \u001b[0morient\u001b[0m\u001b[1;33m=\u001b[0m\u001b[1;34m'dict'\u001b[0m\u001b[1;33m)\u001b[0m\u001b[1;33m:\u001b[0m\u001b[1;33m\u001b[0m\u001b[0m\n",
      "\u001b[1;32mC:\\Users\\stkba\\Anaconda3\\envs\\py3\\lib\\site-packages\\pandas\\core\\frame.py\u001b[0m in \u001b[0;36m__init__\u001b[1;34m(self, data, index, columns, dtype, copy)\u001b[0m\n\u001b[0;32m    352\u001b[0m                                          copy=False)\n\u001b[0;32m    353\u001b[0m             \u001b[1;32melse\u001b[0m\u001b[1;33m:\u001b[0m\u001b[1;33m\u001b[0m\u001b[0m\n\u001b[1;32m--> 354\u001b[1;33m                 \u001b[1;32mraise\u001b[0m \u001b[0mValueError\u001b[0m\u001b[1;33m(\u001b[0m\u001b[1;34m'DataFrame constructor not properly called!'\u001b[0m\u001b[1;33m)\u001b[0m\u001b[1;33m\u001b[0m\u001b[0m\n\u001b[0m\u001b[0;32m    355\u001b[0m \u001b[1;33m\u001b[0m\u001b[0m\n\u001b[0;32m    356\u001b[0m         \u001b[0mNDFrame\u001b[0m\u001b[1;33m.\u001b[0m\u001b[0m__init__\u001b[0m\u001b[1;33m(\u001b[0m\u001b[0mself\u001b[0m\u001b[1;33m,\u001b[0m \u001b[0mmgr\u001b[0m\u001b[1;33m,\u001b[0m \u001b[0mfastpath\u001b[0m\u001b[1;33m=\u001b[0m\u001b[1;32mTrue\u001b[0m\u001b[1;33m)\u001b[0m\u001b[1;33m\u001b[0m\u001b[0m\n",
      "\u001b[1;31mValueError\u001b[0m: DataFrame constructor not properly called!"
     ]
    }
   ],
   "source": [
    "#urlname = 'meetup-group-kpVyqswI'\n",
    "q = 'https://api.meetup.com/{}/events?'.format(urlname)\n",
    "q += '&sign=true&page=200&status=past&only=id,name,status,time,yes_rsvp_count&desc=True'\n",
    "q += '&{}'.format(api_key)\n",
    "response = requests.get(q)\n",
    "events_df = pd.DataFrame.from_dict(response)\n",
    "events_df.time = pd.to_datetime(events_df.time, unit='ms')\n",
    "events_df['group_urlname'] = urlname"
   ]
  },
  {
   "cell_type": "markdown",
   "metadata": {
    "collapsed": true
   },
   "source": [
    "## Run Data"
   ]
  },
  {
   "cell_type": "code",
   "execution_count": 4,
   "metadata": {
    "collapsed": true
   },
   "outputs": [],
   "source": [
    "# read in membership data and trim to \"recent\" visits\n",
    "edges = pd.read_csv('data\\\\memberships.csv', parse_dates=['joined','visited'])\n",
    "# edges = edges.loc[edges.visited > pd.to_datetime('2016-01-01')]\n",
    "\n",
    "# create a \"members\" dataset\n",
    "members = edges[['member_id', 'name', 'hometown', 'city','state', 'lat', 'lon']].groupby('member_id').first()\n",
    "members['num_groups'] = edges[['member_id']].groupby('member_id').size()\n",
    "\n",
    "# read in group information and trim down to only groups with edges\n",
    "groups = pd.read_csv('data\\\\groups.csv', index_col='group_id')\n",
    "groups = groups.loc[edges.group_id.unique()]"
   ]
  },
  {
   "cell_type": "code",
   "execution_count": 113,
   "metadata": {
    "collapsed": false
   },
   "outputs": [
    {
     "name": "stdout",
     "output_type": "stream",
     "text": [
      "Nashville Hiking Meetup\n"
     ]
    }
   ],
   "source": [
    "all_events_filename = './data/events.csv'\n",
    "all_rsvps_filename = './data/rsvps.csv'\n",
    "\n",
    "if not os.path.exists(all_events_filename):\n",
    "    (pd.DataFrame(columns=['event_id', 'name', 'status', 'time', 'yes_rsvp_count', 'group_urlname'])\n",
    "         .to_csv(all_events_filename, header=True, index=None) )\n",
    "if not os.path.exists(all_rsvps_filename):\n",
    "    (pd.DataFrame(columns=['group_urlname', 'event_id', 'member_id'])\n",
    "         .to_csv(all_rsvps_filename, header=True, index=None) )\n",
    "\n",
    "for i, g in groups.dropna().iloc[712:].iterrows():\n",
    "    try:\n",
    "        print(g.group_name)\n",
    "        events = get_events(g.group_urlname, api_key, date_filter_str='2015-11-01')\n",
    "        rsvps = get_all_event_rsvps(g.group_urlname, events.id.tolist(), api_key)\n",
    "        \n",
    "        events.to_csv(all_events_filename, header=False, mode='a', index=None)\n",
    "        rsvps.to_csv(all_rsvps_filename, header=False, mode='a', index=None)\n",
    "        sleep(1)\n",
    "    except ValueError as exc:\n",
    "        print(exc)\n",
    "    except ConnectionError as exc:\n",
    "        print(exc)\n",
    "    finally:\n",
    "        if 'events' in dir(): \n",
    "            del events\n",
    "        if 'rsvps' in dir():\n",
    "            del rsvps"
   ]
  },
  {
   "cell_type": "code",
   "execution_count": 100,
   "metadata": {
    "collapsed": false
   },
   "outputs": [
    {
     "data": {
      "text/plain": [
       "Int64Index([18964683], dtype='int64', name='group_id')"
      ]
     },
     "execution_count": 100,
     "metadata": {},
     "output_type": "execute_result"
    }
   ],
   "source": [
    "# Nashville Improv & Comedy Meetup\n",
    "# Nasville Slow Ride\n"
   ]
  },
  {
   "cell_type": "code",
   "execution_count": 27,
   "metadata": {
    "collapsed": false,
    "deletable": true,
    "editable": true
   },
   "outputs": [],
   "source": [
    "# from time import sleep\n",
    "# import json\n",
    "\n",
    "# edges = pd.DataFrame()\n",
    "# err_ids = []\n",
    "# for pid in members.index:\n",
    "#     r = requests.get('https://api.meetup.com/2/groups?&sign=true&member_id={}&page=200&key=1eb16676d664fa48314391ae5b6c'.format(pid))\n",
    "#     try:\n",
    "#         r = r.json()\n",
    "#         for membership in r['results']:\n",
    "#             edge = pd.Series({'member_id': pid, \n",
    "#                               'group_id': membership['id'], \n",
    "#                               'group_name': membership['name']})\n",
    "#             edges = edges.append(edge, ignore_index=True)\n",
    "#     except json.decoder.JSONDecodeError:\n",
    "#         print(pid)\n",
    "#         err_ids.append(pid)\n",
    "    \n",
    "#     # Sleep briefly so that API doesn't get overwhelmed\n",
    "#     sleep(0.2)\n",
    "        \n",
    "\n",
    "# # Write to computer\n",
    "# write_data = True\n",
    "# if write_data == True:\n",
    "#     edges.to_csv('data_edges.csv') \n"
   ]
  }
 ],
 "metadata": {
  "kernelspec": {
   "display_name": "Python [conda env:py3]",
   "language": "python",
   "name": "conda-env-py3-py"
  },
  "language_info": {
   "codemirror_mode": {
    "name": "ipython",
    "version": 3
   },
   "file_extension": ".py",
   "mimetype": "text/x-python",
   "name": "python",
   "nbconvert_exporter": "python",
   "pygments_lexer": "ipython3",
   "version": "3.6.0"
  }
 },
 "nbformat": 4,
 "nbformat_minor": 2
}
