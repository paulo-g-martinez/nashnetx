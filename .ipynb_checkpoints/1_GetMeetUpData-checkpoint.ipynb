{
 "cells": [
  {
   "cell_type": "markdown",
   "metadata": {
    "deletable": true,
    "editable": true
   },
   "source": [
    "## Get data from Meetup.com\n",
    "\n",
    "We are going to get data from Meetup's API. You can create custom requests using their API console, then make them via Python by copying the secure link here.\n",
    "\n",
    "https://secure.meetup.com/meetup_api/console/?path=/2/members"
   ]
  },
  {
   "cell_type": "code",
   "execution_count": 1,
   "metadata": {
    "collapsed": false,
    "deletable": true,
    "editable": true
   },
   "outputs": [],
   "source": [
    "import pandas as pd\n",
    "import numpy as np\n",
    "import requests\n",
    "import os\n",
    "import json\n",
    "from time import sleep"
   ]
  },
  {
   "cell_type": "markdown",
   "metadata": {
    "deletable": true,
    "editable": true
   },
   "source": [
    "#### Get PyNash Members"
   ]
  },
  {
   "cell_type": "code",
   "execution_count": 12,
   "metadata": {
    "collapsed": true
   },
   "outputs": [],
   "source": [
    "location_str = 'nashville tn'\n",
    "radius=25\n",
    "page=0\n",
    "q = 'https://api.meetup.com/find/groups?&sign=true&photo-host=public&location={}&radius={}&page=200&offset={}&key=1eb16676d664fa48314391ae5b6c'.format(location_str, radius, page) \n",
    "response = requests.get(q).json()"
   ]
  },
  {
   "cell_type": "code",
   "execution_count": 16,
   "metadata": {
    "collapsed": false
   },
   "outputs": [
    {
     "ename": "NameError",
     "evalue": "name 'nash_groups' is not defined",
     "output_type": "error",
     "traceback": [
      "\u001b[1;31m---------------------------------------------------------------------------\u001b[0m",
      "\u001b[1;31mNameError\u001b[0m                                 Traceback (most recent call last)",
      "\u001b[1;32m<ipython-input-16-923e6e975c62>\u001b[0m in \u001b[0;36m<module>\u001b[1;34m()\u001b[0m\n\u001b[0;32m      5\u001b[0m                    g['category']['name'], g['organizer']['id'], g['urlname']),\n\u001b[0;32m      6\u001b[0m                  index=cols)\n\u001b[1;32m----> 7\u001b[1;33m     \u001b[0mall_groups\u001b[0m \u001b[1;33m=\u001b[0m \u001b[0mnash_groups\u001b[0m\u001b[1;33m.\u001b[0m\u001b[0mappend\u001b[0m\u001b[1;33m(\u001b[0m\u001b[0ms\u001b[0m\u001b[1;33m,\u001b[0m \u001b[0mignore_index\u001b[0m\u001b[1;33m=\u001b[0m\u001b[1;32mTrue\u001b[0m\u001b[1;33m)\u001b[0m\u001b[1;33m\u001b[0m\u001b[0m\n\u001b[0m",
      "\u001b[1;31mNameError\u001b[0m: name 'nash_groups' is not defined"
     ]
    }
   ],
   "source": [
    "cols = ('group_id', 'group_name', 'num_members', 'category_id', \n",
    "            'category_name', 'organizer_id', 'group_urlname')\n",
    "for g in response:\n",
    "    s = pd.Series((g['id'], g['name'], g['members'], g['category']['id'], \n",
    "                   g['category']['name'], g['organizer']['id'], g['urlname']),\n",
    "                 index=cols)\n",
    "    all_groups = nash_groups.append(s, ignore_index=True)"
   ]
  },
  {
   "cell_type": "code",
   "execution_count": 41,
   "metadata": {
    "collapsed": false
   },
   "outputs": [],
   "source": [
    "def get_all_groups(location_str, radius=25, write_path=None):\n",
    "    cols = ('group_id', 'group_name', 'num_members', 'category_id', \n",
    "            'category_name', 'organizer_id', 'group_urlname')\n",
    "    all_groups = pd.DataFrame(columns=cols)\n",
    "\n",
    "    for page in np.arange(10):\n",
    "        q = 'https://api.meetup.com/find/groups?&sign=true&photo-host=public&location={}&radius={}&page=200&offset={}&key=1eb16676d664fa48314391ae5b6c'.format(location_str, radius, page) \n",
    "        response = requests.get(q).json()\n",
    "        if len(response) > 0:\n",
    "            try:\n",
    "                for g in response:\n",
    "                    s = pd.Series((g['id'], g['name'], g['members'], g['category']['id'], \n",
    "                                   g['category']['name'], g['organizer']['id'], g['urlname']),\n",
    "                                 index=cols)\n",
    "                    all_groups = all_groups.append(s, ignore_index=True)\n",
    "            except KeyError as exc:\n",
    "                print(g['name'], exc)\n",
    "        # Sleep briefly so that API doesn't get overwhelmed\n",
    "        sleep(0.2)\n",
    "\n",
    "    all_groups = all_groups.astype({'group_id': int, 'organizer_id': int, 'category_id': int, 'num_members': int})\n",
    "    all_groups = all_groups.set_index('group_id')\n",
    "    \n",
    "    # Write to computer\n",
    "    if write_path:\n",
    "        all_groups.to_csv(write_path, encoding='utf-8') \n",
    "\n",
    "    return all_groups\n",
    "\n",
    "\n",
    "def get_group_members(group_id):\n",
    "\n",
    "    # Initialize variables\n",
    "    members = pd.DataFrame()\n",
    "    page = 0\n",
    "    bad_iters = 0\n",
    "    \n",
    "    # Keep querying until there are no more results\n",
    "    all_results = False\n",
    "    while all_results == False:\n",
    "        q = 'https://api.meetup.com/2/members?&sign=true&photo-host=public&group_id={}&only=name,id,city,state,hometown,joined,visited,lat,lon&page=200&offset={}&key=1eb16676d664fa48314391ae5b6c'.format(group_id, page)\n",
    "        response = requests.get(q).json()\n",
    "        if 'results' in response.keys():\n",
    "            try:\n",
    "                tdf = pd.DataFrame.from_dict(response['results']).set_index('id')\n",
    "                members = members.append(tdf)\n",
    "                page += 1\n",
    "            except KeyError as exc:\n",
    "                all_results = True\n",
    "                bad_iters += 1\n",
    "                if bad_iters > 5:\n",
    "                    return None\n",
    "                pass\n",
    "            except json.decoder.JSONDecodeError:\n",
    "                bad_iters += 1\n",
    "                if bad_iters > 5:\n",
    "                    return None\n",
    "                pass\n",
    "        else:\n",
    "            sleep(2)\n",
    "            pass\n",
    "\n",
    "    members['group_id'] = group_id\n",
    "    \n",
    "    return members\n",
    "\n",
    "\n",
    "\n",
    "def agg_group_members(list_of_group_ids, write_path=None, intermediate_path=None):\n",
    "    all_members = pd.DataFrame()\n",
    "    \n",
    "    for g in list_of_group_ids:\n",
    "        sleep(1)\n",
    "        try:\n",
    "            tdf = get_group_members(g)\n",
    "            if intermediate_path:\n",
    "                tdf.to_csv('{}/{}.csv'.format(intermediate_path, g))\n",
    "            all_members = all_members.append(tdf)\n",
    "        except KeyError as exc:\n",
    "            print(group, exc)\n",
    "            continue\n",
    "\n",
    "    # Write to computer\n",
    "    if write_path:\n",
    "        all_members.to_csv(write_path, encoding='utf-8') \n",
    "    \n",
    "    return all_members"
   ]
  },
  {
   "cell_type": "code",
   "execution_count": 23,
   "metadata": {
    "collapsed": false
   },
   "outputs": [
    {
     "name": "stdout",
     "output_type": "stream",
     "text": [
      "Community Experience Testers - Nashville 'category'\n"
     ]
    }
   ],
   "source": [
    "groups = get_all_groups('nashville tn', write_path='data/groups.csv')"
   ]
  },
  {
   "cell_type": "code",
   "execution_count": 38,
   "metadata": {
    "collapsed": false
   },
   "outputs": [
    {
     "data": {
      "text/html": [
       "<div>\n",
       "<table border=\"1\" class=\"dataframe\">\n",
       "  <thead>\n",
       "    <tr style=\"text-align: right;\">\n",
       "      <th></th>\n",
       "      <th>city</th>\n",
       "      <th>hometown</th>\n",
       "      <th>joined</th>\n",
       "      <th>lat</th>\n",
       "      <th>lon</th>\n",
       "      <th>name</th>\n",
       "      <th>state</th>\n",
       "      <th>visited</th>\n",
       "      <th>group_id</th>\n",
       "    </tr>\n",
       "    <tr>\n",
       "      <th>id</th>\n",
       "      <th></th>\n",
       "      <th></th>\n",
       "      <th></th>\n",
       "      <th></th>\n",
       "      <th></th>\n",
       "      <th></th>\n",
       "      <th></th>\n",
       "      <th></th>\n",
       "      <th></th>\n",
       "    </tr>\n",
       "  </thead>\n",
       "  <tbody>\n",
       "    <tr>\n",
       "      <th>213837877</th>\n",
       "      <td>Nashville</td>\n",
       "      <td>NaN</td>\n",
       "      <td>1507142265000</td>\n",
       "      <td>36.18</td>\n",
       "      <td>-86.74</td>\n",
       "      <td>Christian Hooser</td>\n",
       "      <td>TN</td>\n",
       "      <td>1507105911000</td>\n",
       "      <td>26140018</td>\n",
       "    </tr>\n",
       "    <tr>\n",
       "      <th>6770985</th>\n",
       "      <td>Nashville</td>\n",
       "      <td>Nashville</td>\n",
       "      <td>1507051818000</td>\n",
       "      <td>36.16</td>\n",
       "      <td>-86.79</td>\n",
       "      <td>Joe</td>\n",
       "      <td>TN</td>\n",
       "      <td>1508024880000</td>\n",
       "      <td>26140018</td>\n",
       "    </tr>\n",
       "    <tr>\n",
       "      <th>226920452</th>\n",
       "      <td>Nashville</td>\n",
       "      <td>Nashville</td>\n",
       "      <td>1507180412000</td>\n",
       "      <td>36.08</td>\n",
       "      <td>-86.72</td>\n",
       "      <td>Rachel</td>\n",
       "      <td>TN</td>\n",
       "      <td>1508082160000</td>\n",
       "      <td>26140018</td>\n",
       "    </tr>\n",
       "  </tbody>\n",
       "</table>\n",
       "</div>"
      ],
      "text/plain": [
       "                city   hometown         joined    lat    lon  \\\n",
       "id                                                             \n",
       "213837877  Nashville        NaN  1507142265000  36.18 -86.74   \n",
       "6770985    Nashville  Nashville  1507051818000  36.16 -86.79   \n",
       "226920452  Nashville  Nashville  1507180412000  36.08 -86.72   \n",
       "\n",
       "                       name state        visited  group_id  \n",
       "id                                                          \n",
       "213837877  Christian Hooser    TN  1507105911000  26140018  \n",
       "6770985                 Joe    TN  1508024880000  26140018  \n",
       "226920452            Rachel    TN  1508082160000  26140018  "
      ]
     },
     "execution_count": 38,
     "metadata": {},
     "output_type": "execute_result"
    }
   ],
   "source": [
    "get_group_members(groups.sort_values(by='num_members').index.tolist()[5])"
   ]
  },
  {
   "cell_type": "code",
   "execution_count": 39,
   "metadata": {
    "collapsed": false
   },
   "outputs": [],
   "source": [
    "all_members = agg_group_members(groups.sort_values(by='num_members').index.tolist(), \n",
    "                                write_path='data/memberships.csv', intermediate_path='data')"
   ]
  },
  {
   "cell_type": "code",
   "execution_count": 40,
   "metadata": {
    "collapsed": false
   },
   "outputs": [
    {
     "data": {
      "text/plain": [
       "(342265, 9)"
      ]
     },
     "execution_count": 40,
     "metadata": {},
     "output_type": "execute_result"
    }
   ],
   "source": [
    "all_members"
   ]
  },
  {
   "cell_type": "markdown",
   "metadata": {
    "deletable": true,
    "editable": true
   },
   "source": [
    "#### Get memberships for each member"
   ]
  },
  {
   "cell_type": "code",
   "execution_count": 27,
   "metadata": {
    "collapsed": false,
    "deletable": true,
    "editable": true
   },
   "outputs": [],
   "source": [
    "from time import sleep\n",
    "import json\n",
    "\n",
    "\n",
    "edges = pd.DataFrame()\n",
    "err_ids = []\n",
    "for pid in members.index:\n",
    "    r = requests.get('https://api.meetup.com/2/groups?&sign=true&member_id={}&page=200&key=1eb16676d664fa48314391ae5b6c'.format(pid))\n",
    "    try:\n",
    "        r = r.json()\n",
    "        for membership in r['results']:\n",
    "            edge = pd.Series({'member_id': pid, \n",
    "                              'group_id': membership['id'], \n",
    "                              'group_name': membership['name']})\n",
    "            edges = edges.append(edge, ignore_index=True)\n",
    "    except json.decoder.JSONDecodeError:\n",
    "        print(pid)\n",
    "        err_ids.append(pid)\n",
    "    \n",
    "    # Sleep briefly so that API doesn't get overwhelmed\n",
    "    sleep(0.2)\n",
    "        \n",
    "\n",
    "# Write to computer\n",
    "write_data = True\n",
    "if write_data == True:\n",
    "    edges.to_csv('data_edges.csv') \n"
   ]
  }
 ],
 "metadata": {
  "kernelspec": {
   "display_name": "Python [conda env:py3]",
   "language": "python",
   "name": "conda-env-py3-py"
  },
  "language_info": {
   "codemirror_mode": {
    "name": "ipython",
    "version": 3
   },
   "file_extension": ".py",
   "mimetype": "text/x-python",
   "name": "python",
   "nbconvert_exporter": "python",
   "pygments_lexer": "ipython3",
   "version": "3.6.0"
  }
 },
 "nbformat": 4,
 "nbformat_minor": 2
}
