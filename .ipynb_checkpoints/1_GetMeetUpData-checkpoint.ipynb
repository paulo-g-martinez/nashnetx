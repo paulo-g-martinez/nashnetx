{
 "cells": [
  {
   "cell_type": "markdown",
   "metadata": {
    "deletable": true,
    "editable": true
   },
   "source": [
    "## Get data from Meetup.com\n",
    "\n",
    "We are going to get data from Meetup's API. You can create custom requests using their API console, then make them via Python by copying the secure link here.\n",
    "\n",
    "https://secure.meetup.com/meetup_api/console/?path=/2/members"
   ]
  },
  {
   "cell_type": "code",
   "execution_count": 4,
   "metadata": {
    "collapsed": false,
    "deletable": true,
    "editable": true
   },
   "outputs": [],
   "source": [
    "import pandas as pd\n",
    "import numpy as np\n",
    "import requests\n",
    "import os\n",
    "import json\n",
    "from time import sleep"
   ]
  },
  {
   "cell_type": "markdown",
   "metadata": {
    "deletable": true,
    "editable": true
   },
   "source": [
    "#### Get PyNash Members"
   ]
  },
  {
   "cell_type": "code",
   "execution_count": 70,
   "metadata": {
    "collapsed": false
   },
   "outputs": [],
   "source": [
    "def get_group_members(group_id):\n",
    "\n",
    "    # Initialize variables\n",
    "    members = pd.DataFrame()\n",
    "    page = 0\n",
    "    bad_iters = 0\n",
    "    \n",
    "    # Keep querying until there are no more results\n",
    "    all_results = False\n",
    "    while all_results == False:\n",
    "        q = 'https://api.meetup.com/2/members?&sign=true&photo-host=public&group_id={}&only=name,id,city,state,hometown,joined,visited,lat,lon&page=200&offset={}&key=1eb16676d664fa48314391ae5b6c'.format(group_id, page)\n",
    "        response = requests.get(q).json()\n",
    "        if 'results' in response.keys():\n",
    "            try:\n",
    "                tdf = pd.DataFrame.from_dict(response['results']).set_index('id')\n",
    "                members = members.append(tdf)\n",
    "                page += 1\n",
    "            except KeyError as exc:\n",
    "                all_results = True\n",
    "                bad_iters += 1\n",
    "                if bad_iters > 10:\n",
    "                    return None\n",
    "                pass\n",
    "        else:\n",
    "            sleep(2)\n",
    "            pass\n",
    "\n",
    "    members['group_id'] = group_id\n",
    "    \n",
    "    return members"
   ]
  },
  {
   "cell_type": "code",
   "execution_count": null,
   "metadata": {
    "collapsed": false
   },
   "outputs": [],
   "source": [
    "all_members = agg_group_members(groups.index.tolist(), 'data_memberships.csv')"
   ]
  },
  {
   "cell_type": "code",
   "execution_count": 71,
   "metadata": {
    "collapsed": false,
    "deletable": true,
    "editable": true
   },
   "outputs": [],
   "source": [
    "def agg_group_members(list_of_group_ids, write_path=None):\n",
    "    all_members = pd.DataFrame()\n",
    "    \n",
    "    for g in list_of_group_ids:\n",
    "        sleep(1)\n",
    "        try:\n",
    "            tdf = get_group_members(g)\n",
    "            all_members = all_members.append(tdf)\n",
    "        except KeyError as exc:\n",
    "            print(group, exc)\n",
    "            continue\n",
    "\n",
    "    # Write to computer\n",
    "    if write_path:\n",
    "        all_members.to_csv(write_path, encoding='utf-8') \n",
    "    \n",
    "    return all_members"
   ]
  },
  {
   "cell_type": "code",
   "execution_count": 19,
   "metadata": {
    "collapsed": false
   },
   "outputs": [],
   "source": [
    "#### from time import sleep\n",
    "import json\n",
    "\n",
    "def get_all_groups(location_str, radius=25, write_path=None):\n",
    "    cols = ('group_id', 'group_name', 'num_members', 'category_id', \n",
    "            'category_name', 'organizer_id', 'group_urlname')\n",
    "    all_groups = pd.DataFrame(columns=cols)\n",
    "\n",
    "    for page in np.arange(10):\n",
    "        q = 'https://api.meetup.com/find/groups?&sign=true&photo-host=public&location={}&radius={}&page=200&offset={}&key=1eb16676d664fa48314391ae5b6c'.format(location_str, radius, page) \n",
    "        response = requests.get(q).json()\n",
    "        if len(response) > 0:\n",
    "            try:\n",
    "                for g in response:\n",
    "                    s = pd.Series((g['id'], g['name'], g['members'], g['category']['id'], \n",
    "                                   g['category']['name'], g['organizer']['id'], g['urlname']),\n",
    "                                 index=cols)\n",
    "                    all_groups = nash_groups.append(s, ignore_index=True)\n",
    "            except: \n",
    "                continue\n",
    "        # Sleep briefly so that API doesn't get overwhelmed\n",
    "        sleep(0.2)\n",
    "\n",
    "    all_groups = all_groups.astype({'group_id': int, 'organizer_id': int, 'category_id': int, 'num_members': int})\n",
    "    all_groups.set_index('group_id', inplace=True)\n",
    "    \n",
    "    # Write to computer\n",
    "    if write_path:\n",
    "        all_groups.to_csv(write_path) \n",
    "\n",
    "    return all_groups\n",
    "\n",
    "groups = get_all_groups('nashville tn', 'data_groups.csv')"
   ]
  },
  {
   "cell_type": "code",
   "execution_count": 48,
   "metadata": {
    "collapsed": false
   },
   "outputs": [
    {
     "data": {
      "text/html": [
       "<div>\n",
       "<table border=\"1\" class=\"dataframe\">\n",
       "  <thead>\n",
       "    <tr style=\"text-align: right;\">\n",
       "      <th></th>\n",
       "      <th>group_name</th>\n",
       "      <th>num_members</th>\n",
       "      <th>category_id</th>\n",
       "      <th>category_name</th>\n",
       "      <th>organizer_id</th>\n",
       "      <th>group_urlname</th>\n",
       "    </tr>\n",
       "    <tr>\n",
       "      <th>group_id</th>\n",
       "      <th></th>\n",
       "      <th></th>\n",
       "      <th></th>\n",
       "      <th></th>\n",
       "      <th></th>\n",
       "      <th></th>\n",
       "    </tr>\n",
       "  </thead>\n",
       "  <tbody>\n",
       "    <tr>\n",
       "      <th>22504351</th>\n",
       "      <td>Sumner County Shooters</td>\n",
       "      <td>32</td>\n",
       "      <td>32</td>\n",
       "      <td>Sports &amp; Recreation</td>\n",
       "      <td>6141229</td>\n",
       "      <td>SumnerCountyShooters</td>\n",
       "    </tr>\n",
       "    <tr>\n",
       "      <th>21686664</th>\n",
       "      <td>Gallatin Makerspace</td>\n",
       "      <td>118</td>\n",
       "      <td>34</td>\n",
       "      <td>Tech</td>\n",
       "      <td>126066112</td>\n",
       "      <td>GallatinMakerspace</td>\n",
       "    </tr>\n",
       "    <tr>\n",
       "      <th>22644046</th>\n",
       "      <td>First District Conservatives</td>\n",
       "      <td>15</td>\n",
       "      <td>13</td>\n",
       "      <td>Movements &amp; Politics</td>\n",
       "      <td>222774631</td>\n",
       "      <td>First-District-Conservatives</td>\n",
       "    </tr>\n",
       "    <tr>\n",
       "      <th>19494897</th>\n",
       "      <td>The Relationship Sounding Board</td>\n",
       "      <td>40</td>\n",
       "      <td>33</td>\n",
       "      <td>Support</td>\n",
       "      <td>186028004</td>\n",
       "      <td>The-Relationship-Sounding-Board</td>\n",
       "    </tr>\n",
       "    <tr>\n",
       "      <th>19494897</th>\n",
       "      <td>The Relationship Sounding Board</td>\n",
       "      <td>40</td>\n",
       "      <td>33</td>\n",
       "      <td>Support</td>\n",
       "      <td>186028004</td>\n",
       "      <td>The-Relationship-Sounding-Board</td>\n",
       "    </tr>\n",
       "  </tbody>\n",
       "</table>\n",
       "</div>"
      ],
      "text/plain": [
       "                               group_name  num_members  category_id  \\\n",
       "group_id                                                              \n",
       "22504351           Sumner County Shooters           32           32   \n",
       "21686664              Gallatin Makerspace          118           34   \n",
       "22644046     First District Conservatives           15           13   \n",
       "19494897  The Relationship Sounding Board           40           33   \n",
       "19494897  The Relationship Sounding Board           40           33   \n",
       "\n",
       "                 category_name  organizer_id                    group_urlname  \n",
       "group_id                                                                       \n",
       "22504351   Sports & Recreation       6141229             SumnerCountyShooters  \n",
       "21686664                  Tech     126066112               GallatinMakerspace  \n",
       "22644046  Movements & Politics     222774631     First-District-Conservatives  \n",
       "19494897               Support     186028004  The-Relationship-Sounding-Board  \n",
       "19494897               Support     186028004  The-Relationship-Sounding-Board  "
      ]
     },
     "execution_count": 48,
     "metadata": {},
     "output_type": "execute_result"
    }
   ],
   "source": [
    "groups.tail()"
   ]
  },
  {
   "cell_type": "markdown",
   "metadata": {
    "deletable": true,
    "editable": true
   },
   "source": [
    "#### Get memberships for each member"
   ]
  },
  {
   "cell_type": "code",
   "execution_count": 27,
   "metadata": {
    "collapsed": false,
    "deletable": true,
    "editable": true
   },
   "outputs": [],
   "source": [
    "from time import sleep\n",
    "import json\n",
    "\n",
    "\n",
    "edges = pd.DataFrame()\n",
    "err_ids = []\n",
    "for pid in members.index:\n",
    "    r = requests.get('https://api.meetup.com/2/groups?&sign=true&member_id={}&page=200&key=1eb16676d664fa48314391ae5b6c'.format(pid))\n",
    "    try:\n",
    "        r = r.json()\n",
    "        for membership in r['results']:\n",
    "            edge = pd.Series({'member_id': pid, \n",
    "                              'group_id': membership['id'], \n",
    "                              'group_name': membership['name']})\n",
    "            edges = edges.append(edge, ignore_index=True)\n",
    "    except json.decoder.JSONDecodeError:\n",
    "        print(pid)\n",
    "        err_ids.append(pid)\n",
    "    \n",
    "    # Sleep briefly so that API doesn't get overwhelmed\n",
    "    sleep(0.2)\n",
    "        \n",
    "\n",
    "# Write to computer\n",
    "write_data = True\n",
    "if write_data == True:\n",
    "    edges.to_csv('data_edges.csv') \n"
   ]
  }
 ],
 "metadata": {
  "kernelspec": {
   "display_name": "Python [py3]",
   "language": "python",
   "name": "Python [py3]"
  },
  "language_info": {
   "codemirror_mode": {
    "name": "ipython",
    "version": 3
   },
   "file_extension": ".py",
   "mimetype": "text/x-python",
   "name": "python",
   "nbconvert_exporter": "python",
   "pygments_lexer": "ipython3",
   "version": "3.6.0"
  }
 },
 "nbformat": 4,
 "nbformat_minor": 2
}
