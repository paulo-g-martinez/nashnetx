{
 "cells": [
  {
   "cell_type": "markdown",
   "metadata": {
    "deletable": true,
    "editable": true
   },
   "source": [
    "## Get data from Meetup.com\n",
    "\n",
    "We are going to get data from Meetup's API. You can create custom requests using their API console, then make them via Python by copying the secure link here.\n",
    "\n",
    "https://secure.meetup.com/meetup_api/console/?path=/2/members"
   ]
  },
  {
   "cell_type": "code",
   "execution_count": 1,
   "metadata": {
    "collapsed": false,
    "deletable": true,
    "editable": true
   },
   "outputs": [],
   "source": [
    "import pandas as pd\n",
    "import numpy as np\n",
    "import requests\n",
    "import os\n",
    "import json\n",
    "from time import sleep\n",
    "\n",
    "api_key = '646928682c4b5d6f5f6c782a6b351b29'"
   ]
  },
  {
   "cell_type": "markdown",
   "metadata": {
    "deletable": true,
    "editable": true
   },
   "source": [
    "#### Get PyNash Members"
   ]
  },
  {
   "cell_type": "code",
   "execution_count": 2,
   "metadata": {
    "collapsed": false
   },
   "outputs": [],
   "source": [
    "def get_all_groups(location_str, radius=25, write_path=None):\n",
    "    cols = ('group_id', 'group_name', 'num_members', 'category_id', \n",
    "            'category_name', 'organizer_id', 'group_urlname')\n",
    "    all_groups = pd.DataFrame(columns=cols)\n",
    "\n",
    "    for page in np.arange(10):\n",
    "        q = 'https://api.meetup.com/find/groups?&sign=true&location={}&radius={}&page=200&offset={}'.format(location_str, radius, page)\n",
    "        q += '&key={}'.format(api_key) \n",
    "        response = requests.get(q).json()\n",
    "        if len(response) > 0:\n",
    "            try:\n",
    "                for g in response:\n",
    "                    s = pd.Series((g['id'], g['name'], g['members'], g['category']['id'], \n",
    "                                   g['category']['name'], g['organizer']['id'], g['urlname']),\n",
    "                                 index=cols)\n",
    "                    all_groups = all_groups.append(s, ignore_index=True)\n",
    "            except KeyError as exc:\n",
    "                print(g['name'], exc)\n",
    "        # Sleep briefly so that API doesn't get overwhelmed\n",
    "        sleep(0.2)\n",
    "\n",
    "    all_groups = all_groups.astype({'group_id': int, 'organizer_id': int, 'category_id': int, 'num_members': int})\n",
    "    all_groups = all_groups.set_index('group_id')\n",
    "    \n",
    "    # Write to computer\n",
    "    if write_path:\n",
    "        all_groups.to_csv(write_path, encoding='utf-8') \n",
    "\n",
    "    return all_groups\n",
    "\n",
    "\n",
    "def get_group_members(group_id, api_key):\n",
    "    '''Accepts a Meetup group ID number and returns dataframe with all member in the group.'''\n",
    "    # Initialize variables\n",
    "    members = pd.DataFrame()\n",
    "    page = 0\n",
    "    bad_iters = 0\n",
    "    \n",
    "    # Keep querying until there are no more results\n",
    "    all_results = False\n",
    "    while all_results == False:\n",
    "        q = 'https://api.meetup.com/2/members?\n",
    "        q += '&sign=true&group_id={}&only=name,id,city,state,hometown,joined,visited,lat,lon&page=200&offset={}'.format(group_id, page)\n",
    "        q += '&key={}'.format(api_key)\n",
    "        response = requests.get(q).json()\n",
    "        if 'results' in response.keys():\n",
    "            if len(response['results']) == 0:\n",
    "                all_results = True\n",
    "            try:\n",
    "                tdf = pd.DataFrame.from_dict(response['results'])\n",
    "                members = members.append(tdf)\n",
    "                page += 1\n",
    "            except KeyError as exc:\n",
    "                all_results = True\n",
    "                bad_iters += 1\n",
    "                if bad_iters > 5:\n",
    "                    all_results=True\n",
    "                pass\n",
    "            except json.decoder.JSONDecodeError:\n",
    "                bad_iters += 1\n",
    "                if bad_iters > 5:\n",
    "                    all_results=True\n",
    "                pass\n",
    "\n",
    "    members['group_id'] = group_id\n",
    "    \n",
    "    return members\n",
    "\n",
    "\n",
    "\n",
    "def agg_group_members(list_of_group_ids, api_key, write_path=None, intermediate_path=None):\n",
    "    all_members = pd.DataFrame()\n",
    "    \n",
    "    for g in list_of_group_ids:\n",
    "        sleep(1)\n",
    "        try:\n",
    "            tdf = get_group_members(g, api_key)\n",
    "            if intermediate_path:\n",
    "                tdf.to_csv('{}/{}.csv'.format(intermediate_path, g), encoding='utf-8')\n",
    "            all_members = all_members.append(tdf)\n",
    "        except KeyError as exc:\n",
    "            print(group, exc)\n",
    "            continue\n",
    "\n",
    "    # Write to computer\n",
    "    if write_path:\n",
    "        #for date_col in ['joined', 'visited']:\n",
    "            #    members[date_col] = pd.to_datetime(members[date_col], unit='ms')\n",
    "        all_members.to_csv(write_path, encoding='utf-8') \n",
    "        \n",
    "    return all_members"
   ]
  },
  {
   "cell_type": "markdown",
   "metadata": {
    "deletable": true,
    "editable": true
   },
   "source": [
    "#### Get memberships for individual members"
   ]
  },
  {
   "cell_type": "code",
   "execution_count": 71,
   "metadata": {
    "collapsed": false
   },
   "outputs": [
    {
     "data": {
      "text/plain": [
       "'meetup-group-kpVyqswI'"
      ]
     },
     "execution_count": 71,
     "metadata": {},
     "output_type": "execute_result"
    }
   ],
   "source": [
    "urlname"
   ]
  },
  {
   "cell_type": "code",
   "execution_count": 92,
   "metadata": {
    "collapsed": false
   },
   "outputs": [
    {
     "data": {
      "text/plain": [
       "'[]'"
      ]
     },
     "execution_count": 92,
     "metadata": {},
     "output_type": "execute_result"
    }
   ],
   "source": [
    "response.text"
   ]
  },
  {
   "cell_type": "code",
   "execution_count": 89,
   "metadata": {
    "collapsed": false
   },
   "outputs": [
    {
     "ename": "ValueError",
     "evalue": "DataFrame constructor not properly called!",
     "output_type": "error",
     "traceback": [
      "\u001b[1;31m---------------------------------------------------------------------------\u001b[0m",
      "\u001b[1;31mValueError\u001b[0m                                Traceback (most recent call last)",
      "\u001b[1;32m<ipython-input-89-3017c276cddf>\u001b[0m in \u001b[0;36m<module>\u001b[1;34m()\u001b[0m\n\u001b[0;32m      4\u001b[0m \u001b[0mq\u001b[0m \u001b[1;33m+=\u001b[0m \u001b[1;34m'&{}'\u001b[0m\u001b[1;33m.\u001b[0m\u001b[0mformat\u001b[0m\u001b[1;33m(\u001b[0m\u001b[0mapi_key\u001b[0m\u001b[1;33m)\u001b[0m\u001b[1;33m\u001b[0m\u001b[0m\n\u001b[0;32m      5\u001b[0m \u001b[0mresponse\u001b[0m \u001b[1;33m=\u001b[0m \u001b[0mrequests\u001b[0m\u001b[1;33m.\u001b[0m\u001b[0mget\u001b[0m\u001b[1;33m(\u001b[0m\u001b[0mq\u001b[0m\u001b[1;33m)\u001b[0m\u001b[1;33m\u001b[0m\u001b[0m\n\u001b[1;32m----> 6\u001b[1;33m \u001b[0mevents_df\u001b[0m \u001b[1;33m=\u001b[0m \u001b[0mpd\u001b[0m\u001b[1;33m.\u001b[0m\u001b[0mDataFrame\u001b[0m\u001b[1;33m.\u001b[0m\u001b[0mfrom_dict\u001b[0m\u001b[1;33m(\u001b[0m\u001b[0mresponse\u001b[0m\u001b[1;33m)\u001b[0m\u001b[1;33m\u001b[0m\u001b[0m\n\u001b[0m\u001b[0;32m      7\u001b[0m \u001b[0mevents_df\u001b[0m\u001b[1;33m.\u001b[0m\u001b[0mtime\u001b[0m \u001b[1;33m=\u001b[0m \u001b[0mpd\u001b[0m\u001b[1;33m.\u001b[0m\u001b[0mto_datetime\u001b[0m\u001b[1;33m(\u001b[0m\u001b[0mevents_df\u001b[0m\u001b[1;33m.\u001b[0m\u001b[0mtime\u001b[0m\u001b[1;33m,\u001b[0m \u001b[0munit\u001b[0m\u001b[1;33m=\u001b[0m\u001b[1;34m'ms'\u001b[0m\u001b[1;33m)\u001b[0m\u001b[1;33m\u001b[0m\u001b[0m\n\u001b[0;32m      8\u001b[0m \u001b[0mevents_df\u001b[0m\u001b[1;33m[\u001b[0m\u001b[1;34m'group_urlname'\u001b[0m\u001b[1;33m]\u001b[0m \u001b[1;33m=\u001b[0m \u001b[0murlname\u001b[0m\u001b[1;33m\u001b[0m\u001b[0m\n",
      "\u001b[1;32mC:\\Users\\stkba\\Anaconda3\\envs\\py3\\lib\\site-packages\\pandas\\core\\frame.py\u001b[0m in \u001b[0;36mfrom_dict\u001b[1;34m(cls, data, orient, dtype)\u001b[0m\n\u001b[0;32m    849\u001b[0m             \u001b[1;32mraise\u001b[0m \u001b[0mValueError\u001b[0m\u001b[1;33m(\u001b[0m\u001b[1;34m'only recognize index or columns for orient'\u001b[0m\u001b[1;33m)\u001b[0m\u001b[1;33m\u001b[0m\u001b[0m\n\u001b[0;32m    850\u001b[0m \u001b[1;33m\u001b[0m\u001b[0m\n\u001b[1;32m--> 851\u001b[1;33m         \u001b[1;32mreturn\u001b[0m \u001b[0mcls\u001b[0m\u001b[1;33m(\u001b[0m\u001b[0mdata\u001b[0m\u001b[1;33m,\u001b[0m \u001b[0mindex\u001b[0m\u001b[1;33m=\u001b[0m\u001b[0mindex\u001b[0m\u001b[1;33m,\u001b[0m \u001b[0mcolumns\u001b[0m\u001b[1;33m=\u001b[0m\u001b[0mcolumns\u001b[0m\u001b[1;33m,\u001b[0m \u001b[0mdtype\u001b[0m\u001b[1;33m=\u001b[0m\u001b[0mdtype\u001b[0m\u001b[1;33m)\u001b[0m\u001b[1;33m\u001b[0m\u001b[0m\n\u001b[0m\u001b[0;32m    852\u001b[0m \u001b[1;33m\u001b[0m\u001b[0m\n\u001b[0;32m    853\u001b[0m     \u001b[1;32mdef\u001b[0m \u001b[0mto_dict\u001b[0m\u001b[1;33m(\u001b[0m\u001b[0mself\u001b[0m\u001b[1;33m,\u001b[0m \u001b[0morient\u001b[0m\u001b[1;33m=\u001b[0m\u001b[1;34m'dict'\u001b[0m\u001b[1;33m)\u001b[0m\u001b[1;33m:\u001b[0m\u001b[1;33m\u001b[0m\u001b[0m\n",
      "\u001b[1;32mC:\\Users\\stkba\\Anaconda3\\envs\\py3\\lib\\site-packages\\pandas\\core\\frame.py\u001b[0m in \u001b[0;36m__init__\u001b[1;34m(self, data, index, columns, dtype, copy)\u001b[0m\n\u001b[0;32m    352\u001b[0m                                          copy=False)\n\u001b[0;32m    353\u001b[0m             \u001b[1;32melse\u001b[0m\u001b[1;33m:\u001b[0m\u001b[1;33m\u001b[0m\u001b[0m\n\u001b[1;32m--> 354\u001b[1;33m                 \u001b[1;32mraise\u001b[0m \u001b[0mValueError\u001b[0m\u001b[1;33m(\u001b[0m\u001b[1;34m'DataFrame constructor not properly called!'\u001b[0m\u001b[1;33m)\u001b[0m\u001b[1;33m\u001b[0m\u001b[0m\n\u001b[0m\u001b[0;32m    355\u001b[0m \u001b[1;33m\u001b[0m\u001b[0m\n\u001b[0;32m    356\u001b[0m         \u001b[0mNDFrame\u001b[0m\u001b[1;33m.\u001b[0m\u001b[0m__init__\u001b[0m\u001b[1;33m(\u001b[0m\u001b[0mself\u001b[0m\u001b[1;33m,\u001b[0m \u001b[0mmgr\u001b[0m\u001b[1;33m,\u001b[0m \u001b[0mfastpath\u001b[0m\u001b[1;33m=\u001b[0m\u001b[1;32mTrue\u001b[0m\u001b[1;33m)\u001b[0m\u001b[1;33m\u001b[0m\u001b[0m\n",
      "\u001b[1;31mValueError\u001b[0m: DataFrame constructor not properly called!"
     ]
    }
   ],
   "source": [
    "#urlname = 'meetup-group-kpVyqswI'\n",
    "q = 'https://api.meetup.com/{}/events?'.format(urlname)\n",
    "q += '&sign=true&page=200&status=past&only=id,name,status,time,yes_rsvp_count&desc=True'\n",
    "q += '&{}'.format(api_key)\n",
    "response = requests.get(q)\n",
    "events_df = pd.DataFrame.from_dict(response)\n",
    "events_df.time = pd.to_datetime(events_df.time, unit='ms')\n",
    "events_df['group_urlname'] = urlname"
   ]
  },
  {
   "cell_type": "code",
   "execution_count": 98,
   "metadata": {
    "collapsed": false
   },
   "outputs": [],
   "source": [
    "def get_events(urlname, api_key, date_filter_str=None):\n",
    "    ''' Takes a Meetup group urlname and returns a DataFrame of events. Optionally, filter by date.'''\n",
    "    \n",
    "    q = 'https://api.meetup.com/{}/events?'.format(urlname)\n",
    "    q += '&sign=true&page=200&status=past&only=id,name,status,time,yes_rsvp_count&desc=True'\n",
    "    q += '&{}'.format(api_key)\n",
    "    response = requests.get(q)\n",
    "    if response.status_code == 410:\n",
    "        raise ValueError('Group not accessible.')\n",
    "    if len(response.json()) == 0:\n",
    "        raise ValueError('No event results.')\n",
    "    \n",
    "    events_df = pd.DataFrame.from_dict(response.json())\n",
    "    events_df.time = pd.to_datetime(events_df.time, unit='ms')\n",
    "    events_df['group_urlname'] = urlname\n",
    "    \n",
    "    if date_filter_str:\n",
    "        events_df = events_df.loc[events_df.time > pd.to_datetime(date_filter_str)]\n",
    "    \n",
    "    return events_df\n",
    "    \n",
    "def get_event_rsvps(urlname, event_id, api_key):\n",
    "    q = 'https://api.meetup.com/{}/events/{}/rsvps?'.format(urlname, event_id)\n",
    "    q += '&sign=true&photo-host=public&response=yes&only=member'\n",
    "    q += '&{}'.format(api_key)\n",
    "    response = requests.get(q).json()\n",
    "    member_list = [(urlname, event_id, mem['member']['id']) for mem in response]\n",
    "    rsvp_df = pd.DataFrame(member_list, columns=['group_urlname', 'event_id', 'member_id'])\n",
    "    return rsvp_df\n",
    "\n",
    "def get_all_event_rsvps(urlname, list_of_event_ids, api_key):\n",
    "    all_rsvp_df = pd.DataFrame(columns=['group_urlname', 'event_id', 'member_id'])\n",
    "    for eid in list_of_event_ids:\n",
    "        tdf = get_event_rsvps(urlname, eid, api_key)\n",
    "        all_rsvp_df = all_rsvp_df.append(tdf, ignore_index=True)\n",
    "    \n",
    "    return all_rsvp_df"
   ]
  },
  {
   "cell_type": "markdown",
   "metadata": {
    "collapsed": true
   },
   "source": [
    "## Run Data"
   ]
  },
  {
   "cell_type": "code",
   "execution_count": 4,
   "metadata": {
    "collapsed": true
   },
   "outputs": [],
   "source": [
    "# read in membership data and trim to \"recent\" visits\n",
    "edges = pd.read_csv('data\\\\memberships.csv', parse_dates=['joined','visited'])\n",
    "# edges = edges.loc[edges.visited > pd.to_datetime('2016-01-01')]\n",
    "\n",
    "# create a \"members\" dataset\n",
    "members = edges[['member_id', 'name', 'hometown', 'city','state', 'lat', 'lon']].groupby('member_id').first()\n",
    "members['num_groups'] = edges[['member_id']].groupby('member_id').size()\n",
    "\n",
    "# read in group information and trim down to only groups with edges\n",
    "groups = pd.read_csv('data\\\\groups.csv', index_col='group_id')\n",
    "groups = groups.loc[edges.group_id.unique()]"
   ]
  },
  {
   "cell_type": "code",
   "execution_count": 61,
   "metadata": {
    "collapsed": false
   },
   "outputs": [],
   "source": [
    "os.remove(all_events_filename)"
   ]
  },
  {
   "cell_type": "code",
   "execution_count": 113,
   "metadata": {
    "collapsed": false
   },
   "outputs": [
    {
     "name": "stdout",
     "output_type": "stream",
     "text": [
      "Nashville Hiking Meetup\n"
     ]
    }
   ],
   "source": [
    "all_events_filename = './data/events.csv'\n",
    "all_rsvps_filename = './data/rsvps.csv'\n",
    "\n",
    "if not os.path.exists(all_events_filename):\n",
    "    (pd.DataFrame(columns=['event_id', 'name', 'status', 'time', 'yes_rsvp_count', 'group_urlname'])\n",
    "         .to_csv(all_events_filename, header=True, index=None) )\n",
    "if not os.path.exists(all_rsvps_filename):\n",
    "    (pd.DataFrame(columns=['group_urlname', 'event_id', 'member_id'])\n",
    "         .to_csv(all_rsvps_filename, header=True, index=None) )\n",
    "\n",
    "for i, g in groups.dropna().iloc[712:].iterrows():\n",
    "    try:\n",
    "        print(g.group_name)\n",
    "        events = get_events(g.group_urlname, api_key, date_filter_str='2015-11-01')\n",
    "        rsvps = get_all_event_rsvps(g.group_urlname, events.id.tolist(), api_key)\n",
    "        \n",
    "        events.to_csv(all_events_filename, header=False, mode='a', index=None)\n",
    "        rsvps.to_csv(all_rsvps_filename, header=False, mode='a', index=None)\n",
    "        sleep(1)\n",
    "    except ValueError as exc:\n",
    "        print(exc)\n",
    "    except ConnectionError as exc:\n",
    "        print(exc)\n",
    "    finally:\n",
    "        if 'events' in dir(): \n",
    "            del events\n",
    "        if 'rsvps' in dir():\n",
    "            del rsvps"
   ]
  },
  {
   "cell_type": "code",
   "execution_count": 100,
   "metadata": {
    "collapsed": false
   },
   "outputs": [
    {
     "data": {
      "text/plain": [
       "Int64Index([18964683], dtype='int64', name='group_id')"
      ]
     },
     "execution_count": 100,
     "metadata": {},
     "output_type": "execute_result"
    }
   ],
   "source": [
    "Nashville Improv & Comedy Meetup\n",
    "Nasville Slow Ride\n"
   ]
  },
  {
   "cell_type": "code",
   "execution_count": 111,
   "metadata": {
    "collapsed": false
   },
   "outputs": [
    {
     "data": {
      "text/plain": [
       "712"
      ]
     },
     "execution_count": 111,
     "metadata": {},
     "output_type": "execute_result"
    }
   ],
   "source": [
    "i = groups.loc[groups.group_name=='Nashville Hiking Meetup'].index.values[0]\n",
    "groups.dropna().index.get_loc(i)"
   ]
  },
  {
   "cell_type": "code",
   "execution_count": 95,
   "metadata": {
    "collapsed": false
   },
   "outputs": [
    {
     "data": {
      "text/html": [
       "<div>\n",
       "<style>\n",
       "    .dataframe thead tr:only-child th {\n",
       "        text-align: right;\n",
       "    }\n",
       "\n",
       "    .dataframe thead th {\n",
       "        text-align: left;\n",
       "    }\n",
       "\n",
       "    .dataframe tbody tr th {\n",
       "        vertical-align: top;\n",
       "    }\n",
       "</style>\n",
       "<table border=\"1\" class=\"dataframe\">\n",
       "  <thead>\n",
       "    <tr style=\"text-align: right;\">\n",
       "      <th></th>\n",
       "      <th>group_name</th>\n",
       "      <th>num_members</th>\n",
       "      <th>category_id</th>\n",
       "      <th>category_name</th>\n",
       "      <th>organizer_id</th>\n",
       "      <th>group_urlname</th>\n",
       "    </tr>\n",
       "    <tr>\n",
       "      <th>group_id</th>\n",
       "      <th></th>\n",
       "      <th></th>\n",
       "      <th></th>\n",
       "      <th></th>\n",
       "      <th></th>\n",
       "      <th></th>\n",
       "    </tr>\n",
       "  </thead>\n",
       "  <tbody>\n",
       "    <tr>\n",
       "      <th>25347137</th>\n",
       "      <td>Nashville Infusing &amp; Connecting the New Techno...</td>\n",
       "      <td>22.0</td>\n",
       "      <td>34.0</td>\n",
       "      <td>Tech</td>\n",
       "      <td>232889529.0</td>\n",
       "      <td>meetup-group-aldFOwAx</td>\n",
       "    </tr>\n",
       "  </tbody>\n",
       "</table>\n",
       "</div>"
      ],
      "text/plain": [
       "                                                 group_name  num_members  \\\n",
       "group_id                                                                   \n",
       "25347137  Nashville Infusing & Connecting the New Techno...         22.0   \n",
       "\n",
       "          category_id category_name  organizer_id          group_urlname  \n",
       "group_id                                                                  \n",
       "25347137         34.0          Tech   232889529.0  meetup-group-aldFOwAx  "
      ]
     },
     "execution_count": 95,
     "metadata": {},
     "output_type": "execute_result"
    }
   ],
   "source": [
    "groups.loc[groups.group_name == 'Nashville Infusing & Connecting the New Technology Explosi']"
   ]
  },
  {
   "cell_type": "code",
   "execution_count": 59,
   "metadata": {
    "collapsed": false
   },
   "outputs": [
    {
     "data": {
      "text/html": [
       "<div>\n",
       "<style>\n",
       "    .dataframe thead tr:only-child th {\n",
       "        text-align: right;\n",
       "    }\n",
       "\n",
       "    .dataframe thead th {\n",
       "        text-align: left;\n",
       "    }\n",
       "\n",
       "    .dataframe tbody tr th {\n",
       "        vertical-align: top;\n",
       "    }\n",
       "</style>\n",
       "<table border=\"1\" class=\"dataframe\">\n",
       "  <thead>\n",
       "    <tr style=\"text-align: right;\">\n",
       "      <th></th>\n",
       "      <th>group_name</th>\n",
       "      <th>num_members</th>\n",
       "      <th>category_id</th>\n",
       "      <th>category_name</th>\n",
       "      <th>organizer_id</th>\n",
       "      <th>group_urlname</th>\n",
       "    </tr>\n",
       "    <tr>\n",
       "      <th>group_id</th>\n",
       "      <th></th>\n",
       "      <th></th>\n",
       "      <th></th>\n",
       "      <th></th>\n",
       "      <th></th>\n",
       "      <th></th>\n",
       "    </tr>\n",
       "  </thead>\n",
       "  <tbody>\n",
       "    <tr>\n",
       "      <th>26351328</th>\n",
       "      <td>NaN</td>\n",
       "      <td>NaN</td>\n",
       "      <td>NaN</td>\n",
       "      <td>NaN</td>\n",
       "      <td>NaN</td>\n",
       "      <td>NaN</td>\n",
       "    </tr>\n",
       "    <tr>\n",
       "      <th>21778376</th>\n",
       "      <td>NaN</td>\n",
       "      <td>NaN</td>\n",
       "      <td>NaN</td>\n",
       "      <td>NaN</td>\n",
       "      <td>NaN</td>\n",
       "      <td>NaN</td>\n",
       "    </tr>\n",
       "    <tr>\n",
       "      <th>25241971</th>\n",
       "      <td>NaN</td>\n",
       "      <td>NaN</td>\n",
       "      <td>NaN</td>\n",
       "      <td>NaN</td>\n",
       "      <td>NaN</td>\n",
       "      <td>NaN</td>\n",
       "    </tr>\n",
       "    <tr>\n",
       "      <th>21823300</th>\n",
       "      <td>NaN</td>\n",
       "      <td>NaN</td>\n",
       "      <td>NaN</td>\n",
       "      <td>NaN</td>\n",
       "      <td>NaN</td>\n",
       "      <td>NaN</td>\n",
       "    </tr>\n",
       "    <tr>\n",
       "      <th>21821118</th>\n",
       "      <td>NaN</td>\n",
       "      <td>NaN</td>\n",
       "      <td>NaN</td>\n",
       "      <td>NaN</td>\n",
       "      <td>NaN</td>\n",
       "      <td>NaN</td>\n",
       "    </tr>\n",
       "  </tbody>\n",
       "</table>\n",
       "</div>"
      ],
      "text/plain": [
       "         group_name  num_members  category_id category_name  organizer_id  \\\n",
       "group_id                                                                    \n",
       "26351328        NaN          NaN          NaN           NaN           NaN   \n",
       "21778376        NaN          NaN          NaN           NaN           NaN   \n",
       "25241971        NaN          NaN          NaN           NaN           NaN   \n",
       "21823300        NaN          NaN          NaN           NaN           NaN   \n",
       "21821118        NaN          NaN          NaN           NaN           NaN   \n",
       "\n",
       "         group_urlname  \n",
       "group_id                \n",
       "26351328           NaN  \n",
       "21778376           NaN  \n",
       "25241971           NaN  \n",
       "21823300           NaN  \n",
       "21821118           NaN  "
      ]
     },
     "execution_count": 59,
     "metadata": {},
     "output_type": "execute_result"
    }
   ],
   "source": [
    "groups.loc[groups.group_name.isnull()]"
   ]
  },
  {
   "cell_type": "code",
   "execution_count": 27,
   "metadata": {
    "collapsed": false,
    "deletable": true,
    "editable": true
   },
   "outputs": [],
   "source": [
    "# from time import sleep\n",
    "# import json\n",
    "\n",
    "# edges = pd.DataFrame()\n",
    "# err_ids = []\n",
    "# for pid in members.index:\n",
    "#     r = requests.get('https://api.meetup.com/2/groups?&sign=true&member_id={}&page=200&key=1eb16676d664fa48314391ae5b6c'.format(pid))\n",
    "#     try:\n",
    "#         r = r.json()\n",
    "#         for membership in r['results']:\n",
    "#             edge = pd.Series({'member_id': pid, \n",
    "#                               'group_id': membership['id'], \n",
    "#                               'group_name': membership['name']})\n",
    "#             edges = edges.append(edge, ignore_index=True)\n",
    "#     except json.decoder.JSONDecodeError:\n",
    "#         print(pid)\n",
    "#         err_ids.append(pid)\n",
    "    \n",
    "#     # Sleep briefly so that API doesn't get overwhelmed\n",
    "#     sleep(0.2)\n",
    "        \n",
    "\n",
    "# # Write to computer\n",
    "# write_data = True\n",
    "# if write_data == True:\n",
    "#     edges.to_csv('data_edges.csv') \n"
   ]
  }
 ],
 "metadata": {
  "kernelspec": {
   "display_name": "Python [conda env:py3]",
   "language": "python",
   "name": "conda-env-py3-py"
  },
  "language_info": {
   "codemirror_mode": {
    "name": "ipython",
    "version": 3
   },
   "file_extension": ".py",
   "mimetype": "text/x-python",
   "name": "python",
   "nbconvert_exporter": "python",
   "pygments_lexer": "ipython3",
   "version": "3.6.0"
  }
 },
 "nbformat": 4,
 "nbformat_minor": 2
}
