{
 "cells": [
  {
   "cell_type": "markdown",
   "metadata": {
    "deletable": true,
    "editable": true
   },
   "source": [
    "## Get data from Meetup.com\n",
    "\n",
    "We are going to get data from Meetup's API. You can create custom requests using their API console, then make them via Python by copying the secure link here.\n",
    "\n",
    "https://secure.meetup.com/meetup_api/console/?path=/2/members"
   ]
  },
  {
   "cell_type": "code",
   "execution_count": 12,
   "metadata": {
    "collapsed": false,
    "deletable": true,
    "editable": true
   },
   "outputs": [],
   "source": [
    "import pandas as pd\n",
    "import numpy as np\n",
    "import requests\n",
    "import os\n",
    "import json\n",
    "from time import sleep\n",
    "\n",
    "api_key = '646928682c4b5d6f5f6c782a6b351b29'"
   ]
  },
  {
   "cell_type": "markdown",
   "metadata": {
    "deletable": true,
    "editable": true
   },
   "source": [
    "#### Get PyNash Members"
   ]
  },
  {
   "cell_type": "code",
   "execution_count": 31,
   "metadata": {
    "collapsed": false
   },
   "outputs": [],
   "source": [
    "def get_all_groups(location_str, radius=25, write_path=None):\n",
    "    cols = ('group_id', 'group_name', 'num_members', 'category_id', \n",
    "            'category_name', 'organizer_id', 'group_urlname')\n",
    "    all_groups = pd.DataFrame(columns=cols)\n",
    "\n",
    "    for page in np.arange(10):\n",
    "        q = 'https://api.meetup.com/find/groups?&sign=true&location={}&radius={}&page=200&offset={}&key={}'.format(location_str, radius, page, api_key) \n",
    "        response = requests.get(q).json()\n",
    "        if len(response) > 0:\n",
    "            try:\n",
    "                for g in response:\n",
    "                    s = pd.Series((g['id'], g['name'], g['members'], g['category']['id'], \n",
    "                                   g['category']['name'], g['organizer']['id'], g['urlname']),\n",
    "                                 index=cols)\n",
    "                    all_groups = all_groups.append(s, ignore_index=True)\n",
    "            except KeyError as exc:\n",
    "                print(g['name'], exc)\n",
    "        # Sleep briefly so that API doesn't get overwhelmed\n",
    "        sleep(0.2)\n",
    "\n",
    "    all_groups = all_groups.astype({'group_id': int, 'organizer_id': int, 'category_id': int, 'num_members': int})\n",
    "    all_groups = all_groups.set_index('group_id')\n",
    "    \n",
    "    # Write to computer\n",
    "    if write_path:\n",
    "        all_groups.to_csv(write_path, encoding='utf-8') \n",
    "\n",
    "    return all_groups\n",
    "\n",
    "\n",
    "def get_group_members(group_id):\n",
    "    '''Accepts a Meetup group ID number and returns dataframe with all member in the group.'''\n",
    "    # Initialize variables\n",
    "    members = pd.DataFrame()\n",
    "    page = 0\n",
    "    bad_iters = 0\n",
    "    \n",
    "    # Keep querying until there are no more results\n",
    "    all_results = False\n",
    "    while all_results == False:\n",
    "        q = 'https://api.meetup.com/2/members?&sign=true&photo-host=public&group_id={}&only=name,id,city,state,hometown,joined,visited,lat,lon&page=200&offset={}&key={}'.format(group_id, page, api_key)\n",
    "        response = requests.get(q).json()\n",
    "        if 'results' in response.keys():\n",
    "            if len(response['results']) == 0:\n",
    "                all_results = True\n",
    "            try:\n",
    "                tdf = pd.DataFrame.from_dict(response['results'])\n",
    "                members = members.append(tdf)\n",
    "                page += 1\n",
    "            except KeyError as exc:\n",
    "                all_results = True\n",
    "                bad_iters += 1\n",
    "                if bad_iters > 5:\n",
    "                    all_results=True\n",
    "                pass\n",
    "            except json.decoder.JSONDecodeError:\n",
    "                bad_iters += 1\n",
    "                if bad_iters > 5:\n",
    "                    all_results=True\n",
    "                pass\n",
    "\n",
    "    members['group_id'] = group_id\n",
    "    \n",
    "    return members\n",
    "\n",
    "\n",
    "\n",
    "def agg_group_members(list_of_group_ids, write_path=None, intermediate_path=None):\n",
    "    all_members = pd.DataFrame()\n",
    "    \n",
    "    for g in list_of_group_ids:\n",
    "        sleep(1)\n",
    "        try:\n",
    "            tdf = get_group_members(g)\n",
    "            if intermediate_path:\n",
    "                tdf.to_csv('{}/{}.csv'.format(intermediate_path, g), encoding='utf-8')\n",
    "            all_members = all_members.append(tdf)\n",
    "        except KeyError as exc:\n",
    "            print(group, exc)\n",
    "            continue\n",
    "\n",
    "    # Write to computer\n",
    "    if write_path:\n",
    "        #for date_col in ['joined', 'visited']:\n",
    "            #    members[date_col] = pd.to_datetime(members[date_col], unit='ms')\n",
    "        all_members.to_csv(write_path, encoding='utf-8') \n",
    "        \n",
    "    return all_members"
   ]
  },
  {
   "cell_type": "markdown",
   "metadata": {
    "deletable": true,
    "editable": true
   },
   "source": [
    "#### Get memberships for individual members"
   ]
  },
  {
   "cell_type": "code",
   "execution_count": 27,
   "metadata": {
    "collapsed": false,
    "deletable": true,
    "editable": true
   },
   "outputs": [],
   "source": [
    "from time import sleep\n",
    "import json\n",
    "\n",
    "edges = pd.DataFrame()\n",
    "err_ids = []\n",
    "for pid in members.index:\n",
    "    r = requests.get('https://api.meetup.com/2/groups?&sign=true&member_id={}&page=200&key=1eb16676d664fa48314391ae5b6c'.format(pid))\n",
    "    try:\n",
    "        r = r.json()\n",
    "        for membership in r['results']:\n",
    "            edge = pd.Series({'member_id': pid, \n",
    "                              'group_id': membership['id'], \n",
    "                              'group_name': membership['name']})\n",
    "            edges = edges.append(edge, ignore_index=True)\n",
    "    except json.decoder.JSONDecodeError:\n",
    "        print(pid)\n",
    "        err_ids.append(pid)\n",
    "    \n",
    "    # Sleep briefly so that API doesn't get overwhelmed\n",
    "    sleep(0.2)\n",
    "        \n",
    "\n",
    "# Write to computer\n",
    "write_data = True\n",
    "if write_data == True:\n",
    "    edges.to_csv('data_edges.csv') \n"
   ]
  }
 ],
 "metadata": {
  "kernelspec": {
   "display_name": "Python [conda env:py3]",
   "language": "python",
   "name": "conda-env-py3-py"
  },
  "language_info": {
   "codemirror_mode": {
    "name": "ipython",
    "version": 3
   },
   "file_extension": ".py",
   "mimetype": "text/x-python",
   "name": "python",
   "nbconvert_exporter": "python",
   "pygments_lexer": "ipython3",
   "version": "3.6.0"
  }
 },
 "nbformat": 4,
 "nbformat_minor": 2
}
