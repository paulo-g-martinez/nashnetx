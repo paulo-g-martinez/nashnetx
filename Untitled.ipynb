{
 "cells": [
  {
   "cell_type": "code",
   "execution_count": null,
   "metadata": {
    "collapsed": true
   },
   "outputs": [],
   "source": [
    "pd.read_csv"
   ]
  },
  {
   "cell_type": "code",
   "execution_count": 42,
   "metadata": {
    "collapsed": false
   },
   "outputs": [],
   "source": [
    "import pandas as pd\n",
    "from glob import glob\n",
    "import numpy as np\n",
    "\n",
    "groups = pd.read_csv('data\\\\groups.csv', encoding='latin1', index_col='group_id')\n",
    "files = glob('data\\\\*.csv')"
   ]
  },
  {
   "cell_type": "code",
   "execution_count": 43,
   "metadata": {
    "collapsed": false
   },
   "outputs": [],
   "source": [
    "gdata = pd.DataFrame()\n",
    "for g in files:\n",
    "    if not 'group' in g:\n",
    "        tdf = pd.read_csv(g, encoding='latin1')\n",
    "        gdata = gdata.append(tdf)\n"
   ]
  },
  {
   "cell_type": "code",
   "execution_count": 44,
   "metadata": {
    "collapsed": false
   },
   "outputs": [],
   "source": [
    "gdata.group_id = gdata.group_id.astype(int)\n",
    "cdf = gdata.groupby('group_id').agg(len).join(groups)"
   ]
  },
  {
   "cell_type": "code",
   "execution_count": 45,
   "metadata": {
    "collapsed": false
   },
   "outputs": [],
   "source": [
    "match_vals = np.abs(cdf.city - cdf.num_members) > 1\n"
   ]
  },
  {
   "cell_type": "code",
   "execution_count": 46,
   "metadata": {
    "collapsed": false
   },
   "outputs": [
    {
     "data": {
      "text/plain": [
       "3"
      ]
     },
     "execution_count": 46,
     "metadata": {},
     "output_type": "execute_result"
    }
   ],
   "source": [
    "match_vals.sum()"
   ]
  },
  {
   "cell_type": "code",
   "execution_count": 52,
   "metadata": {
    "collapsed": false
   },
   "outputs": [
    {
     "data": {
      "text/plain": [
       "234168251.0    355\n",
       "4389320.0      146\n",
       "12134295.0     117\n",
       "204871578.0    112\n",
       "38690452.0     111\n",
       "144256692.0    110\n",
       "187700521.0    105\n",
       "8539046.0      103\n",
       "221161925.0     91\n",
       "62418442.0      89\n",
       "226128410.0     87\n",
       "3380276.0       86\n",
       "234154899.0     83\n",
       "208678123.0     80\n",
       "81924252.0      77\n",
       "62106992.0      77\n",
       "238177306.0     76\n",
       "53071102.0      75\n",
       "186379477.0     74\n",
       "222899804.0     74\n",
       "3949436.0       74\n",
       "166082312.0     73\n",
       "183621154.0     73\n",
       "200946236.0     72\n",
       "69568352.0      71\n",
       "196267339.0     70\n",
       "221128997.0     70\n",
       "228533008.0     68\n",
       "204360367.0     67\n",
       "46486792.0      67\n",
       "              ... \n",
       "196387892.0      1\n",
       "98193432.0       1\n",
       "234443860.0      1\n",
       "213027646.0      1\n",
       "196383608.0      1\n",
       "234444225.0      1\n",
       "196375654.0      1\n",
       "196371022.0      1\n",
       "98202942.0       1\n",
       "196408983.0      1\n",
       "12275955.0       1\n",
       "14651596.0       1\n",
       "196456497.0      1\n",
       "5535589.0        1\n",
       "196453720.0      1\n",
       "196452048.0      1\n",
       "234411473.0      1\n",
       "12277981.0       1\n",
       "196446996.0      1\n",
       "152563132.0      1\n",
       "234413001.0      1\n",
       "196442381.0      1\n",
       "196441387.0      1\n",
       "196438938.0      1\n",
       "117210512.0      1\n",
       "196436943.0      1\n",
       "222537001.0      1\n",
       "196432390.0      1\n",
       "58606142.0       1\n",
       "134215522.0      1\n",
       "Name: id, dtype: int64"
      ]
     },
     "execution_count": 52,
     "metadata": {},
     "output_type": "execute_result"
    }
   ],
   "source": [
    "gdata.id.value_counts()"
   ]
  }
 ],
 "metadata": {
  "kernelspec": {
   "display_name": "Python [conda env:py3]",
   "language": "python",
   "name": "conda-env-py3-py"
  },
  "language_info": {
   "codemirror_mode": {
    "name": "ipython",
    "version": 3
   },
   "file_extension": ".py",
   "mimetype": "text/x-python",
   "name": "python",
   "nbconvert_exporter": "python",
   "pygments_lexer": "ipython3",
   "version": "3.6.0"
  }
 },
 "nbformat": 4,
 "nbformat_minor": 2
}
