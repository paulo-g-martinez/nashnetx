{
 "cells": [
  {
   "cell_type": "code",
   "execution_count": 18,
   "metadata": {
    "collapsed": false
   },
   "outputs": [],
   "source": [
    "import pandas as pd\n",
    "from glob import glob\n",
    "import numpy as np\n",
    "\n",
    "groups = pd.read_csv('data\\\\groups.csv', index_col='group_id')\n",
    "members = pd.read_csv('data\\\\memberships.csv', parse_dates=['joined','visited'])\n",
    "#for date_col in ['joined', 'visited']:\n",
    "#    members[date_col] = pd.to_datetime(members[date_col], unit='ms')\n",
    "files = glob('data\\\\*.csv')"
   ]
  },
  {
   "cell_type": "code",
   "execution_count": 24,
   "metadata": {
    "collapsed": false
   },
   "outputs": [],
   "source": [
    "members.drop('Unnamed: 0', axis=1).to_csv('data\\\\memberships.csv', encoding='utf-8', index=None)\n",
    "#members.to_csv('data\\\\groups.csv', encoding='utf-8')"
   ]
  },
  {
   "cell_type": "code",
   "execution_count": 23,
   "metadata": {
    "collapsed": false
   },
   "outputs": [
    {
     "data": {
      "text/html": [
       "<div>\n",
       "<table border=\"1\" class=\"dataframe\">\n",
       "  <thead>\n",
       "    <tr style=\"text-align: right;\">\n",
       "      <th></th>\n",
       "      <th>member_id</th>\n",
       "      <th>city</th>\n",
       "      <th>group_id</th>\n",
       "      <th>hometown</th>\n",
       "      <th>joined</th>\n",
       "      <th>lat</th>\n",
       "      <th>lon</th>\n",
       "      <th>name</th>\n",
       "      <th>state</th>\n",
       "      <th>visited</th>\n",
       "    </tr>\n",
       "  </thead>\n",
       "  <tbody>\n",
       "    <tr>\n",
       "      <th>0</th>\n",
       "      <td>183378723</td>\n",
       "      <td>Mount Juliet</td>\n",
       "      <td>26298838</td>\n",
       "      <td>NaN</td>\n",
       "      <td>2017-10-18 14:18:22</td>\n",
       "      <td>36.21</td>\n",
       "      <td>-86.52</td>\n",
       "      <td>Jim Mosier</td>\n",
       "      <td>TN</td>\n",
       "      <td>2017-10-18 14:18:22</td>\n",
       "    </tr>\n",
       "    <tr>\n",
       "      <th>1</th>\n",
       "      <td>200612671</td>\n",
       "      <td>Murfreesboro</td>\n",
       "      <td>26298838</td>\n",
       "      <td>NaN</td>\n",
       "      <td>2017-10-17 22:04:01</td>\n",
       "      <td>35.82</td>\n",
       "      <td>-86.45</td>\n",
       "      <td>Junie George</td>\n",
       "      <td>TN</td>\n",
       "      <td>2017-10-19 00:07:05</td>\n",
       "    </tr>\n",
       "    <tr>\n",
       "      <th>2</th>\n",
       "      <td>148010152</td>\n",
       "      <td>Goodlettsville</td>\n",
       "      <td>26166316</td>\n",
       "      <td>Goodlettsville</td>\n",
       "      <td>2017-10-06 01:18:21</td>\n",
       "      <td>36.33</td>\n",
       "      <td>-86.74</td>\n",
       "      <td>Bruce Smith</td>\n",
       "      <td>TN</td>\n",
       "      <td>2017-10-06 01:18:21</td>\n",
       "    </tr>\n",
       "    <tr>\n",
       "      <th>3</th>\n",
       "      <td>191328601</td>\n",
       "      <td>Goodlettsville</td>\n",
       "      <td>26166316</td>\n",
       "      <td>Goodlettsville</td>\n",
       "      <td>2017-10-05 21:42:25</td>\n",
       "      <td>36.33</td>\n",
       "      <td>-86.74</td>\n",
       "      <td>Riphaeus</td>\n",
       "      <td>TN</td>\n",
       "      <td>2017-10-11 18:35:57</td>\n",
       "    </tr>\n",
       "    <tr>\n",
       "      <th>4</th>\n",
       "      <td>213837877</td>\n",
       "      <td>Nashville</td>\n",
       "      <td>26140018</td>\n",
       "      <td>NaN</td>\n",
       "      <td>2017-10-04 18:37:45</td>\n",
       "      <td>36.18</td>\n",
       "      <td>-86.74</td>\n",
       "      <td>Christian Hooser</td>\n",
       "      <td>TN</td>\n",
       "      <td>2017-10-04 08:31:51</td>\n",
       "    </tr>\n",
       "  </tbody>\n",
       "</table>\n",
       "</div>"
      ],
      "text/plain": [
       "   member_id            city  group_id        hometown              joined  \\\n",
       "0  183378723    Mount Juliet  26298838             NaN 2017-10-18 14:18:22   \n",
       "1  200612671    Murfreesboro  26298838             NaN 2017-10-17 22:04:01   \n",
       "2  148010152  Goodlettsville  26166316  Goodlettsville 2017-10-06 01:18:21   \n",
       "3  191328601  Goodlettsville  26166316  Goodlettsville 2017-10-05 21:42:25   \n",
       "4  213837877       Nashville  26140018             NaN 2017-10-04 18:37:45   \n",
       "\n",
       "     lat    lon              name state             visited  \n",
       "0  36.21 -86.52        Jim Mosier    TN 2017-10-18 14:18:22  \n",
       "1  35.82 -86.45      Junie George    TN 2017-10-19 00:07:05  \n",
       "2  36.33 -86.74       Bruce Smith    TN 2017-10-06 01:18:21  \n",
       "3  36.33 -86.74          Riphaeus    TN 2017-10-11 18:35:57  \n",
       "4  36.18 -86.74  Christian Hooser    TN 2017-10-04 08:31:51  "
      ]
     },
     "execution_count": 23,
     "metadata": {},
     "output_type": "execute_result"
    }
   ],
   "source": [
    ".head()"
   ]
  },
  {
   "cell_type": "code",
   "execution_count": null,
   "metadata": {
    "collapsed": true
   },
   "outputs": [],
   "source": [
    "pd.read_csv('data\\\\memberships.csv', parse_dates=['joined','visited'])"
   ]
  },
  {
   "cell_type": "code",
   "execution_count": 5,
   "metadata": {
    "collapsed": false
   },
   "outputs": [
    {
     "data": {
      "text/plain": [
       "0        2017-10-18 14:18:22\n",
       "1        2017-10-19 00:07:05\n",
       "2        2017-10-06 01:18:21\n",
       "3        2017-10-11 18:35:57\n",
       "4        2017-10-04 08:31:51\n",
       "5        2017-10-14 23:48:00\n",
       "6        2017-10-15 15:42:40\n",
       "7        2017-09-27 16:30:50\n",
       "8        2017-10-06 12:08:54\n",
       "9        2017-09-05 02:28:49\n",
       "10       2017-10-20 01:01:28\n",
       "11       2017-10-16 16:25:08\n",
       "12       2017-10-23 05:31:44\n",
       "13       2013-11-17 12:53:09\n",
       "14       2013-11-18 20:52:13\n",
       "15       2013-12-31 04:54:56\n",
       "16       2013-11-15 22:51:33\n",
       "17       2013-12-14 15:51:20\n",
       "18       2017-09-27 01:22:37\n",
       "19       2017-10-03 12:01:21\n",
       "20       2017-10-02 15:02:54\n",
       "21       2017-10-04 01:55:37\n",
       "22       2017-10-23 14:39:19\n",
       "23       2017-10-23 18:05:37\n",
       "24       2017-09-02 02:09:40\n",
       "25       2016-09-07 22:16:46\n",
       "26       2017-07-29 01:33:43\n",
       "27       2017-08-10 22:24:43\n",
       "28       2017-09-23 17:06:02\n",
       "29       2017-09-16 00:20:14\n",
       "                 ...        \n",
       "342235   2017-05-23 00:13:47\n",
       "342236   2013-10-17 17:30:22\n",
       "342237   2017-10-18 03:40:58\n",
       "342238   2017-07-06 14:31:22\n",
       "342239   2016-09-13 12:22:54\n",
       "342240   2017-10-23 21:10:43\n",
       "342241   2016-03-23 13:50:24\n",
       "342242   2017-02-04 01:43:02\n",
       "342243   2017-02-03 14:40:07\n",
       "342244   2016-07-13 23:15:05\n",
       "342245   2016-05-11 06:15:51\n",
       "342246   2017-08-15 16:15:29\n",
       "342247   2017-05-03 18:43:23\n",
       "342248   2017-08-10 23:14:54\n",
       "342249   2015-10-18 02:08:43\n",
       "342250   2016-04-22 21:45:33\n",
       "342251   2017-10-16 22:01:46\n",
       "342252   2016-11-22 03:17:13\n",
       "342253   2016-02-16 13:39:54\n",
       "342254   2017-10-22 03:45:09\n",
       "342255   2016-10-23 04:27:37\n",
       "342256   2017-04-11 12:05:13\n",
       "342257   2017-10-21 06:04:46\n",
       "342258   2017-07-03 21:23:21\n",
       "342259   2017-08-03 02:26:45\n",
       "342260   2017-08-23 16:07:35\n",
       "342261   2017-07-12 00:09:36\n",
       "342262   2015-06-23 20:50:15\n",
       "342263   2016-11-08 01:58:01\n",
       "342264   2017-08-08 21:09:13\n",
       "Name: visited, dtype: datetime64[ns]"
      ]
     },
     "execution_count": 5,
     "metadata": {},
     "output_type": "execute_result"
    }
   ],
   "source": [
    "pd.to_datetime(members.visited, unit='ms')"
   ]
  },
  {
   "cell_type": "code",
   "execution_count": 6,
   "metadata": {
    "collapsed": false
   },
   "outputs": [
    {
     "ename": "KeyboardInterrupt",
     "evalue": "",
     "output_type": "error",
     "traceback": [
      "\u001b[1;31m---------------------------------------------------------------------------\u001b[0m",
      "\u001b[1;31mKeyboardInterrupt\u001b[0m                         Traceback (most recent call last)",
      "\u001b[1;32m<ipython-input-6-1e1c6c648296>\u001b[0m in \u001b[0;36m<module>\u001b[1;34m()\u001b[0m\n\u001b[0;32m      3\u001b[0m     \u001b[1;32mif\u001b[0m \u001b[1;32mnot\u001b[0m \u001b[1;34m'group'\u001b[0m \u001b[1;32min\u001b[0m \u001b[0mg\u001b[0m\u001b[1;33m:\u001b[0m\u001b[1;33m\u001b[0m\u001b[0m\n\u001b[0;32m      4\u001b[0m         \u001b[0mtdf\u001b[0m \u001b[1;33m=\u001b[0m \u001b[0mpd\u001b[0m\u001b[1;33m.\u001b[0m\u001b[0mread_csv\u001b[0m\u001b[1;33m(\u001b[0m\u001b[0mg\u001b[0m\u001b[1;33m,\u001b[0m \u001b[0mencoding\u001b[0m\u001b[1;33m=\u001b[0m\u001b[1;34m'latin1'\u001b[0m\u001b[1;33m)\u001b[0m\u001b[1;33m\u001b[0m\u001b[0m\n\u001b[1;32m----> 5\u001b[1;33m         \u001b[0mgdata\u001b[0m \u001b[1;33m=\u001b[0m \u001b[0mgdata\u001b[0m\u001b[1;33m.\u001b[0m\u001b[0mappend\u001b[0m\u001b[1;33m(\u001b[0m\u001b[0mtdf\u001b[0m\u001b[1;33m)\u001b[0m\u001b[1;33m\u001b[0m\u001b[0m\n\u001b[0m",
      "\u001b[1;32mC:\\Users\\stkba\\Anaconda3\\envs\\py3\\lib\\site-packages\\pandas\\core\\frame.py\u001b[0m in \u001b[0;36mappend\u001b[1;34m(self, other, ignore_index, verify_integrity)\u001b[0m\n\u001b[0;32m   4433\u001b[0m             \u001b[0mto_concat\u001b[0m \u001b[1;33m=\u001b[0m \u001b[1;33m[\u001b[0m\u001b[0mself\u001b[0m\u001b[1;33m,\u001b[0m \u001b[0mother\u001b[0m\u001b[1;33m]\u001b[0m\u001b[1;33m\u001b[0m\u001b[0m\n\u001b[0;32m   4434\u001b[0m         return concat(to_concat, ignore_index=ignore_index,\n\u001b[1;32m-> 4435\u001b[1;33m                       verify_integrity=verify_integrity)\n\u001b[0m\u001b[0;32m   4436\u001b[0m \u001b[1;33m\u001b[0m\u001b[0m\n\u001b[0;32m   4437\u001b[0m     def join(self, other, on=None, how='left', lsuffix='', rsuffix='',\n",
      "\u001b[1;32mC:\\Users\\stkba\\Anaconda3\\envs\\py3\\lib\\site-packages\\pandas\\tools\\merge.py\u001b[0m in \u001b[0;36mconcat\u001b[1;34m(objs, axis, join, join_axes, ignore_index, keys, levels, names, verify_integrity, copy)\u001b[0m\n\u001b[0;32m   1450\u001b[0m                        \u001b[0mverify_integrity\u001b[0m\u001b[1;33m=\u001b[0m\u001b[0mverify_integrity\u001b[0m\u001b[1;33m,\u001b[0m\u001b[1;33m\u001b[0m\u001b[0m\n\u001b[0;32m   1451\u001b[0m                        copy=copy)\n\u001b[1;32m-> 1452\u001b[1;33m     \u001b[1;32mreturn\u001b[0m \u001b[0mop\u001b[0m\u001b[1;33m.\u001b[0m\u001b[0mget_result\u001b[0m\u001b[1;33m(\u001b[0m\u001b[1;33m)\u001b[0m\u001b[1;33m\u001b[0m\u001b[0m\n\u001b[0m\u001b[0;32m   1453\u001b[0m \u001b[1;33m\u001b[0m\u001b[0m\n\u001b[0;32m   1454\u001b[0m \u001b[1;33m\u001b[0m\u001b[0m\n",
      "\u001b[1;32mC:\\Users\\stkba\\Anaconda3\\envs\\py3\\lib\\site-packages\\pandas\\tools\\merge.py\u001b[0m in \u001b[0;36mget_result\u001b[1;34m(self)\u001b[0m\n\u001b[0;32m   1648\u001b[0m             new_data = concatenate_block_managers(\n\u001b[0;32m   1649\u001b[0m                 \u001b[0mmgrs_indexers\u001b[0m\u001b[1;33m,\u001b[0m \u001b[0mself\u001b[0m\u001b[1;33m.\u001b[0m\u001b[0mnew_axes\u001b[0m\u001b[1;33m,\u001b[0m \u001b[0mconcat_axis\u001b[0m\u001b[1;33m=\u001b[0m\u001b[0mself\u001b[0m\u001b[1;33m.\u001b[0m\u001b[0maxis\u001b[0m\u001b[1;33m,\u001b[0m\u001b[1;33m\u001b[0m\u001b[0m\n\u001b[1;32m-> 1650\u001b[1;33m                 copy=self.copy)\n\u001b[0m\u001b[0;32m   1651\u001b[0m             \u001b[1;32mif\u001b[0m \u001b[1;32mnot\u001b[0m \u001b[0mself\u001b[0m\u001b[1;33m.\u001b[0m\u001b[0mcopy\u001b[0m\u001b[1;33m:\u001b[0m\u001b[1;33m\u001b[0m\u001b[0m\n\u001b[0;32m   1652\u001b[0m                 \u001b[0mnew_data\u001b[0m\u001b[1;33m.\u001b[0m\u001b[0m_consolidate_inplace\u001b[0m\u001b[1;33m(\u001b[0m\u001b[1;33m)\u001b[0m\u001b[1;33m\u001b[0m\u001b[0m\n",
      "\u001b[1;32mC:\\Users\\stkba\\Anaconda3\\envs\\py3\\lib\\site-packages\\pandas\\core\\internals.py\u001b[0m in \u001b[0;36mconcatenate_block_managers\u001b[1;34m(mgrs_indexers, axes, concat_axis, copy)\u001b[0m\n\u001b[0;32m   4823\u001b[0m     blocks = [make_block(\n\u001b[0;32m   4824\u001b[0m         \u001b[0mconcatenate_join_units\u001b[0m\u001b[1;33m(\u001b[0m\u001b[0mjoin_units\u001b[0m\u001b[1;33m,\u001b[0m \u001b[0mconcat_axis\u001b[0m\u001b[1;33m,\u001b[0m \u001b[0mcopy\u001b[0m\u001b[1;33m=\u001b[0m\u001b[0mcopy\u001b[0m\u001b[1;33m)\u001b[0m\u001b[1;33m,\u001b[0m\u001b[1;33m\u001b[0m\u001b[0m\n\u001b[1;32m-> 4825\u001b[1;33m         placement=placement) for placement, join_units in concat_plan]\n\u001b[0m\u001b[0;32m   4826\u001b[0m \u001b[1;33m\u001b[0m\u001b[0m\n\u001b[0;32m   4827\u001b[0m     \u001b[1;32mreturn\u001b[0m \u001b[0mBlockManager\u001b[0m\u001b[1;33m(\u001b[0m\u001b[0mblocks\u001b[0m\u001b[1;33m,\u001b[0m \u001b[0maxes\u001b[0m\u001b[1;33m)\u001b[0m\u001b[1;33m\u001b[0m\u001b[0m\n",
      "\u001b[1;32mC:\\Users\\stkba\\Anaconda3\\envs\\py3\\lib\\site-packages\\pandas\\core\\internals.py\u001b[0m in \u001b[0;36m<listcomp>\u001b[1;34m(.0)\u001b[0m\n\u001b[0;32m   4823\u001b[0m     blocks = [make_block(\n\u001b[0;32m   4824\u001b[0m         \u001b[0mconcatenate_join_units\u001b[0m\u001b[1;33m(\u001b[0m\u001b[0mjoin_units\u001b[0m\u001b[1;33m,\u001b[0m \u001b[0mconcat_axis\u001b[0m\u001b[1;33m,\u001b[0m \u001b[0mcopy\u001b[0m\u001b[1;33m=\u001b[0m\u001b[0mcopy\u001b[0m\u001b[1;33m)\u001b[0m\u001b[1;33m,\u001b[0m\u001b[1;33m\u001b[0m\u001b[0m\n\u001b[1;32m-> 4825\u001b[1;33m         placement=placement) for placement, join_units in concat_plan]\n\u001b[0m\u001b[0;32m   4826\u001b[0m \u001b[1;33m\u001b[0m\u001b[0m\n\u001b[0;32m   4827\u001b[0m     \u001b[1;32mreturn\u001b[0m \u001b[0mBlockManager\u001b[0m\u001b[1;33m(\u001b[0m\u001b[0mblocks\u001b[0m\u001b[1;33m,\u001b[0m \u001b[0maxes\u001b[0m\u001b[1;33m)\u001b[0m\u001b[1;33m\u001b[0m\u001b[0m\n",
      "\u001b[1;32mC:\\Users\\stkba\\Anaconda3\\envs\\py3\\lib\\site-packages\\pandas\\core\\internals.py\u001b[0m in \u001b[0;36mconcatenate_join_units\u001b[1;34m(join_units, concat_axis, copy)\u001b[0m\n\u001b[0;32m   4916\u001b[0m         \u001b[1;32mraise\u001b[0m \u001b[0mAssertionError\u001b[0m\u001b[1;33m(\u001b[0m\u001b[1;34m\"Concatenating join units along axis0\"\u001b[0m\u001b[1;33m)\u001b[0m\u001b[1;33m\u001b[0m\u001b[0m\n\u001b[0;32m   4917\u001b[0m \u001b[1;33m\u001b[0m\u001b[0m\n\u001b[1;32m-> 4918\u001b[1;33m     \u001b[0mempty_dtype\u001b[0m\u001b[1;33m,\u001b[0m \u001b[0mupcasted_na\u001b[0m \u001b[1;33m=\u001b[0m \u001b[0mget_empty_dtype_and_na\u001b[0m\u001b[1;33m(\u001b[0m\u001b[0mjoin_units\u001b[0m\u001b[1;33m)\u001b[0m\u001b[1;33m\u001b[0m\u001b[0m\n\u001b[0m\u001b[0;32m   4919\u001b[0m \u001b[1;33m\u001b[0m\u001b[0m\n\u001b[0;32m   4920\u001b[0m     to_concat = [ju.get_reindexed_values(empty_dtype=empty_dtype,\n",
      "\u001b[1;32mC:\\Users\\stkba\\Anaconda3\\envs\\py3\\lib\\site-packages\\pandas\\core\\internals.py\u001b[0m in \u001b[0;36mget_empty_dtype_and_na\u001b[1;34m(join_units)\u001b[0m\n\u001b[0;32m   4877\u001b[0m         \u001b[1;31m# are only null blocks, when same upcasting rules must be applied to\u001b[0m\u001b[1;33m\u001b[0m\u001b[1;33m\u001b[0m\u001b[0m\n\u001b[0;32m   4878\u001b[0m         \u001b[1;31m# null upcast classes.\u001b[0m\u001b[1;33m\u001b[0m\u001b[1;33m\u001b[0m\u001b[0m\n\u001b[1;32m-> 4879\u001b[1;33m         \u001b[1;32mif\u001b[0m \u001b[0munit\u001b[0m\u001b[1;33m.\u001b[0m\u001b[0mis_null\u001b[0m\u001b[1;33m:\u001b[0m\u001b[1;33m\u001b[0m\u001b[0m\n\u001b[0m\u001b[0;32m   4880\u001b[0m             \u001b[0mnull_upcast_classes\u001b[0m\u001b[1;33m[\u001b[0m\u001b[0mupcast_cls\u001b[0m\u001b[1;33m]\u001b[0m\u001b[1;33m.\u001b[0m\u001b[0mappend\u001b[0m\u001b[1;33m(\u001b[0m\u001b[0mdtype\u001b[0m\u001b[1;33m)\u001b[0m\u001b[1;33m\u001b[0m\u001b[0m\n\u001b[0;32m   4881\u001b[0m         \u001b[1;32melse\u001b[0m\u001b[1;33m:\u001b[0m\u001b[1;33m\u001b[0m\u001b[0m\n",
      "\u001b[1;32mpandas\\src\\properties.pyx\u001b[0m in \u001b[0;36mpandas.lib.cache_readonly.__get__ (pandas\\lib.c:45588)\u001b[1;34m()\u001b[0m\n",
      "\u001b[1;32mC:\\Users\\stkba\\Anaconda3\\envs\\py3\\lib\\site-packages\\pandas\\core\\internals.py\u001b[0m in \u001b[0;36mis_null\u001b[1;34m(self)\u001b[0m\n\u001b[0;32m   5163\u001b[0m         \u001b[0mchunk_len\u001b[0m \u001b[1;33m=\u001b[0m \u001b[0mmax\u001b[0m\u001b[1;33m(\u001b[0m\u001b[0mtotal_len\u001b[0m \u001b[1;33m//\u001b[0m \u001b[1;36m40\u001b[0m\u001b[1;33m,\u001b[0m \u001b[1;36m1000\u001b[0m\u001b[1;33m)\u001b[0m\u001b[1;33m\u001b[0m\u001b[0m\n\u001b[0;32m   5164\u001b[0m         \u001b[1;32mfor\u001b[0m \u001b[0mi\u001b[0m \u001b[1;32min\u001b[0m \u001b[0mrange\u001b[0m\u001b[1;33m(\u001b[0m\u001b[1;36m0\u001b[0m\u001b[1;33m,\u001b[0m \u001b[0mtotal_len\u001b[0m\u001b[1;33m,\u001b[0m \u001b[0mchunk_len\u001b[0m\u001b[1;33m)\u001b[0m\u001b[1;33m:\u001b[0m\u001b[1;33m\u001b[0m\u001b[0m\n\u001b[1;32m-> 5165\u001b[1;33m             \u001b[1;32mif\u001b[0m \u001b[1;32mnot\u001b[0m \u001b[0misnull\u001b[0m\u001b[1;33m(\u001b[0m\u001b[0mvalues_flat\u001b[0m\u001b[1;33m[\u001b[0m\u001b[0mi\u001b[0m\u001b[1;33m:\u001b[0m\u001b[0mi\u001b[0m \u001b[1;33m+\u001b[0m \u001b[0mchunk_len\u001b[0m\u001b[1;33m]\u001b[0m\u001b[1;33m)\u001b[0m\u001b[1;33m.\u001b[0m\u001b[0mall\u001b[0m\u001b[1;33m(\u001b[0m\u001b[1;33m)\u001b[0m\u001b[1;33m:\u001b[0m\u001b[1;33m\u001b[0m\u001b[0m\n\u001b[0m\u001b[0;32m   5166\u001b[0m                 \u001b[1;32mreturn\u001b[0m \u001b[1;32mFalse\u001b[0m\u001b[1;33m\u001b[0m\u001b[0m\n\u001b[0;32m   5167\u001b[0m \u001b[1;33m\u001b[0m\u001b[0m\n",
      "\u001b[1;32mC:\\Users\\stkba\\Anaconda3\\envs\\py3\\lib\\site-packages\\pandas\\types\\missing.py\u001b[0m in \u001b[0;36misnull\u001b[1;34m(obj)\u001b[0m\n\u001b[0;32m     43\u001b[0m     \u001b[0mpandas\u001b[0m\u001b[1;33m.\u001b[0m\u001b[0mnotnull\u001b[0m\u001b[1;33m:\u001b[0m \u001b[0mboolean\u001b[0m \u001b[0minverse\u001b[0m \u001b[0mof\u001b[0m \u001b[0mpandas\u001b[0m\u001b[1;33m.\u001b[0m\u001b[0misnull\u001b[0m\u001b[1;33m\u001b[0m\u001b[0m\n\u001b[0;32m     44\u001b[0m     \"\"\"\n\u001b[1;32m---> 45\u001b[1;33m     \u001b[1;32mreturn\u001b[0m \u001b[0m_isnull\u001b[0m\u001b[1;33m(\u001b[0m\u001b[0mobj\u001b[0m\u001b[1;33m)\u001b[0m\u001b[1;33m\u001b[0m\u001b[0m\n\u001b[0m\u001b[0;32m     46\u001b[0m \u001b[1;33m\u001b[0m\u001b[0m\n\u001b[0;32m     47\u001b[0m \u001b[1;33m\u001b[0m\u001b[0m\n",
      "\u001b[1;32mC:\\Users\\stkba\\Anaconda3\\envs\\py3\\lib\\site-packages\\pandas\\types\\missing.py\u001b[0m in \u001b[0;36m_isnull_new\u001b[1;34m(obj)\u001b[0m\n\u001b[0;32m     53\u001b[0m         \u001b[1;32mraise\u001b[0m \u001b[0mNotImplementedError\u001b[0m\u001b[1;33m(\u001b[0m\u001b[1;34m\"isnull is not defined for MultiIndex\"\u001b[0m\u001b[1;33m)\u001b[0m\u001b[1;33m\u001b[0m\u001b[0m\n\u001b[0;32m     54\u001b[0m     \u001b[1;32melif\u001b[0m \u001b[0misinstance\u001b[0m\u001b[1;33m(\u001b[0m\u001b[0mobj\u001b[0m\u001b[1;33m,\u001b[0m \u001b[1;33m(\u001b[0m\u001b[0mABCSeries\u001b[0m\u001b[1;33m,\u001b[0m \u001b[0mnp\u001b[0m\u001b[1;33m.\u001b[0m\u001b[0mndarray\u001b[0m\u001b[1;33m,\u001b[0m \u001b[0mABCIndexClass\u001b[0m\u001b[1;33m)\u001b[0m\u001b[1;33m)\u001b[0m\u001b[1;33m:\u001b[0m\u001b[1;33m\u001b[0m\u001b[0m\n\u001b[1;32m---> 55\u001b[1;33m         \u001b[1;32mreturn\u001b[0m \u001b[0m_isnull_ndarraylike\u001b[0m\u001b[1;33m(\u001b[0m\u001b[0mobj\u001b[0m\u001b[1;33m)\u001b[0m\u001b[1;33m\u001b[0m\u001b[0m\n\u001b[0m\u001b[0;32m     56\u001b[0m     \u001b[1;32melif\u001b[0m \u001b[0misinstance\u001b[0m\u001b[1;33m(\u001b[0m\u001b[0mobj\u001b[0m\u001b[1;33m,\u001b[0m \u001b[0mABCGeneric\u001b[0m\u001b[1;33m)\u001b[0m\u001b[1;33m:\u001b[0m\u001b[1;33m\u001b[0m\u001b[0m\n\u001b[0;32m     57\u001b[0m         \u001b[1;32mreturn\u001b[0m \u001b[0mobj\u001b[0m\u001b[1;33m.\u001b[0m\u001b[0m_constructor\u001b[0m\u001b[1;33m(\u001b[0m\u001b[0mobj\u001b[0m\u001b[1;33m.\u001b[0m\u001b[0m_data\u001b[0m\u001b[1;33m.\u001b[0m\u001b[0misnull\u001b[0m\u001b[1;33m(\u001b[0m\u001b[0mfunc\u001b[0m\u001b[1;33m=\u001b[0m\u001b[0misnull\u001b[0m\u001b[1;33m)\u001b[0m\u001b[1;33m)\u001b[0m\u001b[1;33m\u001b[0m\u001b[0m\n",
      "\u001b[1;32mC:\\Users\\stkba\\Anaconda3\\envs\\py3\\lib\\site-packages\\pandas\\types\\missing.py\u001b[0m in \u001b[0;36m_isnull_ndarraylike\u001b[1;34m(obj)\u001b[0m\n\u001b[0;32m    145\u001b[0m         \u001b[0mresult\u001b[0m \u001b[1;33m=\u001b[0m \u001b[0mvalues\u001b[0m\u001b[1;33m.\u001b[0m\u001b[0mview\u001b[0m\u001b[1;33m(\u001b[0m\u001b[1;34m'i8'\u001b[0m\u001b[1;33m)\u001b[0m \u001b[1;33m==\u001b[0m \u001b[0miNaT\u001b[0m\u001b[1;33m\u001b[0m\u001b[0m\n\u001b[0;32m    146\u001b[0m     \u001b[1;32melse\u001b[0m\u001b[1;33m:\u001b[0m\u001b[1;33m\u001b[0m\u001b[0m\n\u001b[1;32m--> 147\u001b[1;33m         \u001b[0mresult\u001b[0m \u001b[1;33m=\u001b[0m \u001b[0mnp\u001b[0m\u001b[1;33m.\u001b[0m\u001b[0misnan\u001b[0m\u001b[1;33m(\u001b[0m\u001b[0mvalues\u001b[0m\u001b[1;33m)\u001b[0m\u001b[1;33m\u001b[0m\u001b[0m\n\u001b[0m\u001b[0;32m    148\u001b[0m \u001b[1;33m\u001b[0m\u001b[0m\n\u001b[0;32m    149\u001b[0m     \u001b[1;31m# box\u001b[0m\u001b[1;33m\u001b[0m\u001b[1;33m\u001b[0m\u001b[0m\n",
      "\u001b[1;31mKeyboardInterrupt\u001b[0m: "
     ]
    }
   ],
   "source": [
    "gdata = pd.DataFrame()\n",
    "for g in files:\n",
    "    if not 'group' in g:\n",
    "        tdf = pd.read_csv(g, encoding='latin1')\n",
    "        gdata = gdata.append(tdf)\n"
   ]
  },
  {
   "cell_type": "code",
   "execution_count": 25,
   "metadata": {
    "collapsed": false
   },
   "outputs": [
    {
     "data": {
      "text/plain": [
       "(865, 6)"
      ]
     },
     "execution_count": 25,
     "metadata": {},
     "output_type": "execute_result"
    }
   ],
   "source": [
    "groups.shape\n"
   ]
  },
  {
   "cell_type": "code",
   "execution_count": 26,
   "metadata": {
    "collapsed": false
   },
   "outputs": [],
   "source": [
    "members.group_id = members.group_id.astype(int)\n",
    "cdf = groups.join(members.groupby('group_id').agg(len))"
   ]
  },
  {
   "cell_type": "code",
   "execution_count": 28,
   "metadata": {
    "collapsed": false
   },
   "outputs": [],
   "source": [
    "match_vals = np.abs(cdf.city - cdf.num_members) > 1\n"
   ]
  },
  {
   "cell_type": "code",
   "execution_count": 40,
   "metadata": {
    "collapsed": false
   },
   "outputs": [
    {
     "name": "stdout",
     "output_type": "stream",
     "text": [
      "[22982126, 25514523, 26148182, 25747812, 25842377, 21289207, 24471828, 20326297, 19072581, 18833001, 22824474, 19934899, 26258970, 25026657, 23234440, 25661378, 24985315, 19408839, 26254038, 7129942, 20229452, 26074382, 25442126, 24504847, 1819474, 24762391, 25122337, 22501996, 19764562, 22275880, 18194233, 24351103, 21771089, 23029297, 1512578, 24637264, 21846276, 23523548, 23709488, 23318990, 23181015, 4037642, 23505371, 19992350, 19215770, 4507792, 19549621, 1299250, 26042538, 19370256, 20488570, 20267150, 22632117, 19479699, 26080969, 18505473, 18737159, 19306451, 20486490, 19440811, 18487182, 24890978, 16731932, 21801924, 18916508, 21064154, 14194422, 18476335, 11138782, 25756605, 19042913, 20216370, 691322, 10580242, 23593297, 18630936, 20571755, 18642322, 1586635, 17732042, 19503486, 1680888, 1585263, 11574842, 25066933, 2749292, 19856615, 21148651, 18602694, 22782911, 20285980, 1768040, 19740004, 21506105, 21710544, 3718972, 23598515, 19591270, 8741902, 1049061, 23273659, 22916872, 17213452, 18412046, 23018525, 351080, 19459402, 19959627, 6859622, 1776410, 13993792, 4341532, 19115644, 24440003, 18502048, 2527902, 18483128, 1819536, 530494, 1438993, 510297, 1660079, 19035334, 18579141, 2662782, 1150309, 1682521, 4642582, 1770788, 20040517, 1788274, 9540322, 1694517, 17404882, 211512, 3260132, 16291092, 377617, 1334499, 3217182, 1226140, 1808866, 9452822, 1877261, 1583865, 968626]\n"
     ]
    }
   ],
   "source": [
    "print(cdf.loc[cdf.member_id.isnull()].sort_values(by='num_members').index.tolist())"
   ]
  },
  {
   "cell_type": "code",
   "execution_count": 52,
   "metadata": {
    "collapsed": false
   },
   "outputs": [
    {
     "data": {
      "text/plain": [
       "234168251.0    355\n",
       "4389320.0      146\n",
       "12134295.0     117\n",
       "204871578.0    112\n",
       "38690452.0     111\n",
       "144256692.0    110\n",
       "187700521.0    105\n",
       "8539046.0      103\n",
       "221161925.0     91\n",
       "62418442.0      89\n",
       "226128410.0     87\n",
       "3380276.0       86\n",
       "234154899.0     83\n",
       "208678123.0     80\n",
       "81924252.0      77\n",
       "62106992.0      77\n",
       "238177306.0     76\n",
       "53071102.0      75\n",
       "186379477.0     74\n",
       "222899804.0     74\n",
       "3949436.0       74\n",
       "166082312.0     73\n",
       "183621154.0     73\n",
       "200946236.0     72\n",
       "69568352.0      71\n",
       "196267339.0     70\n",
       "221128997.0     70\n",
       "228533008.0     68\n",
       "204360367.0     67\n",
       "46486792.0      67\n",
       "              ... \n",
       "196387892.0      1\n",
       "98193432.0       1\n",
       "234443860.0      1\n",
       "213027646.0      1\n",
       "196383608.0      1\n",
       "234444225.0      1\n",
       "196375654.0      1\n",
       "196371022.0      1\n",
       "98202942.0       1\n",
       "196408983.0      1\n",
       "12275955.0       1\n",
       "14651596.0       1\n",
       "196456497.0      1\n",
       "5535589.0        1\n",
       "196453720.0      1\n",
       "196452048.0      1\n",
       "234411473.0      1\n",
       "12277981.0       1\n",
       "196446996.0      1\n",
       "152563132.0      1\n",
       "234413001.0      1\n",
       "196442381.0      1\n",
       "196441387.0      1\n",
       "196438938.0      1\n",
       "117210512.0      1\n",
       "196436943.0      1\n",
       "222537001.0      1\n",
       "196432390.0      1\n",
       "58606142.0       1\n",
       "134215522.0      1\n",
       "Name: id, dtype: int64"
      ]
     },
     "execution_count": 52,
     "metadata": {},
     "output_type": "execute_result"
    }
   ],
   "source": [
    "gdata.id.value_counts()"
   ]
  }
 ],
 "metadata": {
  "kernelspec": {
   "display_name": "Python [conda env:py3]",
   "language": "python",
   "name": "conda-env-py3-py"
  },
  "language_info": {
   "codemirror_mode": {
    "name": "ipython",
    "version": 3
   },
   "file_extension": ".py",
   "mimetype": "text/x-python",
   "name": "python",
   "nbconvert_exporter": "python",
   "pygments_lexer": "ipython3",
   "version": "3.6.0"
  }
 },
 "nbformat": 4,
 "nbformat_minor": 2
}
