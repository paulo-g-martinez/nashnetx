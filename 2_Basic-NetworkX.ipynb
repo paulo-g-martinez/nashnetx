{
 "cells": [
  {
   "cell_type": "markdown",
   "metadata": {},
   "source": [
    "To start working with NetworkX, we're going to build a graph for a single event. We can do this in a couple of different ways: adding attributes piece-by-piece, building it from list of edges or through a dataframe. Then, we'll play with the measures and do basic plotting.  \n",
    "\n",
    "The event we'll be working with is:\n",
    "\n",
    "```\n",
    "event_id: 233228364\n",
    "name: Tomato Art Festival\n",
    "date: 2016-08-13 20:00:00\n",
    "group: 20s in Nashville\n",
    "yes_rsvps: 10\n",
    "```\n",
    "\n",
    "The member information will come from the `rsvps` data."
   ]
  },
  {
   "cell_type": "code",
   "execution_count": 19,
   "metadata": {
    "collapsed": false
   },
   "outputs": [
    {
     "name": "stdout",
     "output_type": "stream",
     "text": [
      "The members attending this event are:\n",
      "Alexandra, Andrea, Christina, Cory, Jermaine, Kealy, Lifeavinash, Shealyn, Tsion, Zack\n"
     ]
    }
   ],
   "source": [
    "import pandas as pd\n",
    "\n",
    "example = pd.read_csv('data\\\\example_members.csv', index_col='member_id')\n",
    "\n",
    "print('The members attending this event are:')\n",
    "print(', '.join(example.name))"
   ]
  },
  {
   "cell_type": "markdown",
   "metadata": {},
   "source": [
    "### 1. Creating a graph via declarative syntax.\n",
    "\n",
    "The first way to create a graph is to explicitly add nodes and edges. \n",
    "\n",
    "```\n",
    "g.add_node(node_id)\n",
    "g.add_edge(node_id, node_id)\n",
    "```"
   ]
  },
  {
   "cell_type": "code",
   "execution_count": 20,
   "metadata": {
    "collapsed": true
   },
   "outputs": [],
   "source": [
    "import networkx as nx"
   ]
  },
  {
   "cell_type": "code",
   "execution_count": 23,
   "metadata": {
    "collapsed": false
   },
   "outputs": [],
   "source": [
    "# Instantiate an undirected graph\n",
    "g = nx.Graph()\n",
    "\n",
    "# Add member nodes\n",
    "for member in example.name:\n",
    "    g.add_node(member)\n",
    "    \n",
    "# Add event node\n",
    "g.add_node('tomato-festival')\n",
    "\n",
    "# Add edges\n",
    "for member in example.name:\n",
    "    g.add_edge(member, 'tomato-festival')"
   ]
  },
  {
   "cell_type": "code",
   "execution_count": 24,
   "metadata": {
    "collapsed": false
   },
   "outputs": [
    {
     "data": {
      "text/plain": [
       "<networkx.classes.graph.Graph at 0x225fc283f60>"
      ]
     },
     "execution_count": 24,
     "metadata": {},
     "output_type": "execute_result"
    }
   ],
   "source": [
    "g"
   ]
  },
  {
   "cell_type": "markdown",
   "metadata": {},
   "source": [
    "You can access a \"view\" of the nodes and edges view the `g.nodes` and `g.edges` methods. Applying a `dict` to the view or passing `data=True` will expose the attributes of the underlying objects."
   ]
  },
  {
   "cell_type": "code",
   "execution_count": 25,
   "metadata": {
    "collapsed": false
   },
   "outputs": [
    {
     "data": {
      "text/plain": [
       "NodeView(('Alexandra', 'Andrea', 'Christina', 'Cory', 'Jermaine', 'Kealy', 'Lifeavinash', 'Shealyn', 'Tsion', 'Zack', 'tomato-festival'))"
      ]
     },
     "execution_count": 25,
     "metadata": {},
     "output_type": "execute_result"
    }
   ],
   "source": [
    "g.nodes"
   ]
  },
  {
   "cell_type": "code",
   "execution_count": 26,
   "metadata": {
    "collapsed": false
   },
   "outputs": [
    {
     "data": {
      "text/plain": [
       "NodeDataView({'Alexandra': {}, 'Andrea': {}, 'Christina': {}, 'Cory': {}, 'Jermaine': {}, 'Kealy': {}, 'Lifeavinash': {}, 'Shealyn': {}, 'Tsion': {}, 'Zack': {}, 'tomato-festival': {}})"
      ]
     },
     "execution_count": 26,
     "metadata": {},
     "output_type": "execute_result"
    }
   ],
   "source": [
    "g.nodes(data=True) # Notice each node has an empty attribute dict"
   ]
  },
  {
   "cell_type": "code",
   "execution_count": 27,
   "metadata": {
    "collapsed": false
   },
   "outputs": [
    {
     "data": {
      "text/plain": [
       "{'Alexandra': {},\n",
       " 'Andrea': {},\n",
       " 'Christina': {},\n",
       " 'Cory': {},\n",
       " 'Jermaine': {},\n",
       " 'Kealy': {},\n",
       " 'Lifeavinash': {},\n",
       " 'Shealyn': {},\n",
       " 'Tsion': {},\n",
       " 'Zack': {},\n",
       " 'tomato-festival': {}}"
      ]
     },
     "execution_count": 27,
     "metadata": {},
     "output_type": "execute_result"
    }
   ],
   "source": [
    "dict(g.nodes) # Similarly, access by coercing into a dict"
   ]
  },
  {
   "cell_type": "markdown",
   "metadata": {},
   "source": [
    "##### Attributes\n",
    "You can add attributes in two ways:\n",
    "\n",
    "1. Assign them directly, like you would a dict.\n",
    "2. Use the `nx.set_XXXX_attributes` function."
   ]
  },
  {
   "cell_type": "code",
   "execution_count": 29,
   "metadata": {
    "collapsed": false
   },
   "outputs": [],
   "source": [
    "# We can assign attributes in single statements or for loops\n",
    "g.nodes['tomato-festival']['node_type'] = 'event'\n",
    "\n",
    "for member in example.name:\n",
    "    g.nodes[member]['node_type'] = 'person'\n",
    "\n",
    "# ...but a combination of listcomps and the \"set_node/edge_attributes\" function is more succinct.\n",
    "nx.set_edge_attributes(G = g, \n",
    "                       values = {e: 'yes_rsvp' for e in g.edges}, \n",
    "                       name = 'edge_type')"
   ]
  },
  {
   "cell_type": "code",
   "execution_count": 30,
   "metadata": {
    "collapsed": false
   },
   "outputs": [
    {
     "data": {
      "text/plain": [
       "{'Alexandra': {'node_type': 'person'},\n",
       " 'Andrea': {'node_type': 'person'},\n",
       " 'Christina': {'node_type': 'person'},\n",
       " 'Cory': {'node_type': 'person'},\n",
       " 'Jermaine': {'node_type': 'person'},\n",
       " 'Kealy': {'node_type': 'person'},\n",
       " 'Lifeavinash': {'node_type': 'person'},\n",
       " 'Shealyn': {'node_type': 'person'},\n",
       " 'Tsion': {'node_type': 'person'},\n",
       " 'Zack': {'node_type': 'person'},\n",
       " 'tomato-festival': {'node_type': 'event'}}"
      ]
     },
     "execution_count": 30,
     "metadata": {},
     "output_type": "execute_result"
    }
   ],
   "source": [
    "dict(g.nodes)"
   ]
  },
  {
   "cell_type": "code",
   "execution_count": 9,
   "metadata": {
    "collapsed": false
   },
   "outputs": [
    {
     "data": {
      "text/plain": [
       "{('Alexandra', 'tomato-festival'): {'edge_type': 'yes_rsvp'},\n",
       " ('Andrea', 'tomato-festival'): {'edge_type': 'yes_rsvp'},\n",
       " ('Christina', 'tomato-festival'): {'edge_type': 'yes_rsvp'},\n",
       " ('Cory', 'tomato-festival'): {'edge_type': 'yes_rsvp'},\n",
       " ('Jermaine', 'tomato-festival'): {'edge_type': 'yes_rsvp'},\n",
       " ('Kealy', 'tomato-festival'): {'edge_type': 'yes_rsvp'},\n",
       " ('Lifeavinash', 'tomato-festival'): {'edge_type': 'yes_rsvp'},\n",
       " ('Shealyn', 'tomato-festival'): {'edge_type': 'yes_rsvp'},\n",
       " ('Tsion', 'tomato-festival'): {'edge_type': 'yes_rsvp'},\n",
       " ('Zack', 'tomato-festival'): {'edge_type': 'yes_rsvp'}}"
      ]
     },
     "execution_count": 9,
     "metadata": {},
     "output_type": "execute_result"
    }
   ],
   "source": [
    "dict(g.edges)"
   ]
  },
  {
   "cell_type": "markdown",
   "metadata": {},
   "source": [
    "##### Building graphs from lists and dataframes\n",
    "\n",
    "There are many other methods for building graphs which might take advantage of your existing data structures. These include building it from a list of edges (which can be useful when combined with listcomps) or from a pandas dataframe."
   ]
  },
  {
   "cell_type": "code",
   "execution_count": 31,
   "metadata": {
    "collapsed": false
   },
   "outputs": [],
   "source": [
    "# From an edge_list\n",
    "g = nx.from_edgelist([(n, 'tomato-festival') for n in example.name])"
   ]
  },
  {
   "cell_type": "code",
   "execution_count": 32,
   "metadata": {
    "collapsed": false
   },
   "outputs": [],
   "source": [
    "# From a dataframe\n",
    "example['event_name'] = 'tomato-festival'\n",
    "example['edge_type'] = 'yes_rsvp'\n",
    "g = nx.from_pandas_dataframe(example, \n",
    "                             source='name', \n",
    "                             target='event_name', \n",
    "                             edge_attr='edge_type')\n",
    "\n",
    "# Set node attributes\n",
    "node_type_dict = dict([(n, 'member') if n in example.name.tolist()\n",
    "                           else (n, 'event') for n in g.nodes])\n",
    "nx.set_node_attributes(g, node_type_dict, 'node_type')"
   ]
  },
  {
   "cell_type": "markdown",
   "metadata": {},
   "source": [
    "... and there are many other methods available."
   ]
  },
  {
   "cell_type": "code",
   "execution_count": 12,
   "metadata": {
    "collapsed": false
   },
   "outputs": [
    {
     "data": {
      "text/plain": [
       "['from_dict_of_dicts',\n",
       " 'from_dict_of_lists',\n",
       " 'from_edgelist',\n",
       " 'from_nested_tuple',\n",
       " 'from_numpy_array',\n",
       " 'from_numpy_matrix',\n",
       " 'from_pandas_adjacency',\n",
       " 'from_pandas_dataframe',\n",
       " 'from_pandas_edgelist',\n",
       " 'from_prufer_sequence',\n",
       " 'from_scipy_sparse_matrix']"
      ]
     },
     "execution_count": 12,
     "metadata": {},
     "output_type": "execute_result"
    }
   ],
   "source": [
    "[m for m in dir(nx) if 'from_' in m]"
   ]
  },
  {
   "cell_type": "markdown",
   "metadata": {},
   "source": [
    "### 2. Getting graph metrics\n",
    "\n",
    "There are many built-in functions for calculating graph measures. They typically take the form of `nx.some_measure(g)` and return a dictionary of values.\n",
    "\n",
    "Degree is one exception -- it is so common and useful that it has its own special view. (It can be coerced into a dictionary, however.)"
   ]
  },
  {
   "cell_type": "code",
   "execution_count": 13,
   "metadata": {
    "collapsed": false
   },
   "outputs": [
    {
     "data": {
      "text/plain": [
       "DegreeView({'Alexandra': 1, 'tomato-festival': 10, 'Andrea': 1, 'Christina': 1, 'Cory': 1, 'Jermaine': 1, 'Kealy': 1, 'Lifeavinash': 1, 'Shealyn': 1, 'Tsion': 1, 'Zack': 1})"
      ]
     },
     "execution_count": 13,
     "metadata": {},
     "output_type": "execute_result"
    }
   ],
   "source": [
    "nx.degree(g)"
   ]
  },
  {
   "cell_type": "code",
   "execution_count": 33,
   "metadata": {
    "collapsed": false
   },
   "outputs": [
    {
     "data": {
      "text/plain": [
       "{'Alexandra': 1,\n",
       " 'Andrea': 1,\n",
       " 'Christina': 1,\n",
       " 'Cory': 1,\n",
       " 'Jermaine': 1,\n",
       " 'Kealy': 1,\n",
       " 'Lifeavinash': 1,\n",
       " 'Shealyn': 1,\n",
       " 'Tsion': 1,\n",
       " 'Zack': 1,\n",
       " 'tomato-festival': 10}"
      ]
     },
     "execution_count": 33,
     "metadata": {},
     "output_type": "execute_result"
    }
   ],
   "source": [
    "dict(nx.degree(g))"
   ]
  },
  {
   "cell_type": "code",
   "execution_count": 34,
   "metadata": {
    "collapsed": false
   },
   "outputs": [
    {
     "data": {
      "text/plain": [
       "{'Alexandra': 0.0,\n",
       " 'Andrea': 0.0,\n",
       " 'Christina': 0.0,\n",
       " 'Cory': 0.0,\n",
       " 'Jermaine': 0.0,\n",
       " 'Kealy': 0.0,\n",
       " 'Lifeavinash': 0.0,\n",
       " 'Shealyn': 0.0,\n",
       " 'Tsion': 0.0,\n",
       " 'Zack': 0.0,\n",
       " 'tomato-festival': 1.0}"
      ]
     },
     "execution_count": 34,
     "metadata": {},
     "output_type": "execute_result"
    }
   ],
   "source": [
    "nx.betweenness_centrality(g)"
   ]
  },
  {
   "cell_type": "markdown",
   "metadata": {},
   "source": [
    "### 3. Drawing simple graphs.\n",
    "\n",
    "NetworkX includes functionality for plotting graphs quickly and easily using `matplotlib`. There are two fundamental aspects to plotting graphs:\n",
    "\n",
    "1. Getting a layout dictionary.\n",
    "    - To plot a graph, each node must have a defined position in the x-y plane. Several functions can provide these for you, including `nx.circular_layout`, `nx.spring_layout` and `nx.random_layout`.\n",
    "2. Plotting nodes, edges and labels.\n",
    "    - The plotting call can be done all at once (via `nx.draw_networkx`) or piecemeal through `nx.draw_networkx_nodes`, `nx.draw_networkx_edges`, etc. In each case, you must provide the graph and position dictionary."
   ]
  },
  {
   "cell_type": "code",
   "execution_count": 16,
   "metadata": {
    "collapsed": false
   },
   "outputs": [
    {
     "data": {
      "image/png": "[encoded data removed]",
      "text/plain": [
       "<matplotlib.figure.Figure at 0x225fa3a6c50>"
      ]
     },
     "metadata": {},
     "output_type": "display_data"
    }
   ],
   "source": [
    "import matplotlib.pyplot as plt\n",
    "from utils import setup_graph_plot   # Configures useful matplotlib settings\n",
    "\n",
    "fig, ax = setup_graph_plot()\n",
    "\n",
    "pos = nx.spring_layout(g)\n",
    "nx.draw_networkx(g, pos)\n",
    "\n",
    "plt.show()"
   ]
  },
  {
   "cell_type": "code",
   "execution_count": 17,
   "metadata": {
    "collapsed": false
   },
   "outputs": [
    {
     "data": {
      "image/png": "[encoded data removed]",
      "text/plain": [
       "<matplotlib.figure.Figure at 0x225faf6ad30>"
      ]
     },
     "metadata": {},
     "output_type": "display_data"
    }
   ],
   "source": [
    "# Plotting nodes and edges separately can be helpful\n",
    "\n",
    "fig, ax = setup_graph_plot()\n",
    "\n",
    "colors = ['g' if g.nodes[n]['node_type'] == 'member' else 'b' for n in g.nodes]\n",
    "\n",
    "pos = nx.circular_layout(g)\n",
    "nx.draw_networkx_nodes(g, pos, node_color=colors) # No labels are plotted either\n",
    "\n",
    "plt.show()"
   ]
  },
  {
   "cell_type": "code",
   "execution_count": 18,
   "metadata": {
    "collapsed": false
   },
   "outputs": [
    {
     "data": {
      "image/png": "[encoded data removed]",
      "text/plain": [
       "<matplotlib.figure.Figure at 0x225fafc2550>"
      ]
     },
     "metadata": {},
     "output_type": "display_data"
    }
   ],
   "source": [
    "# Plotting nodes and edges separately can be helpful\n",
    "\n",
    "fig, ax = setup_graph_plot()\n",
    "\n",
    "colors = ['g' if g.nodes[n]['node_type'] == 'member' else 'b' for n in g.nodes]\n",
    "sizes = [100*g.degree[n] for n in g.nodes]\n",
    "\n",
    "pos = nx.random_layout(g)\n",
    "nx.draw_networkx_nodes(g, pos, node_color=colors, node_size=sizes) \n",
    "nx.draw_networkx_edges(g, pos)\n",
    "\n",
    "plt.show()"
   ]
  },
  {
   "cell_type": "markdown",
   "metadata": {},
   "source": [
    "Great! We have now seen how to build a simple graph, access measurements from it and make a basic plot. In the next post, we'll see how to do this on the MeetUp data."
   ]
  }
 ],
 "metadata": {
  "anaconda-cloud": {},
  "kernelspec": {
   "display_name": "Python [conda env:py3]",
   "language": "python",
   "name": "conda-env-py3-py"
  },
  "language_info": {
   "codemirror_mode": {
    "name": "ipython",
    "version": 3
   },
   "file_extension": ".py",
   "mimetype": "text/x-python",
   "name": "python",
   "nbconvert_exporter": "python",
   "pygments_lexer": "ipython3",
   "version": "3.6.0"
  }
 },
 "nbformat": 4,
 "nbformat_minor": 2
}
